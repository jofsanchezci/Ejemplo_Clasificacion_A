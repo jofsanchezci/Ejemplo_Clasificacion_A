{
  "cells": [
    {
      "cell_type": "markdown",
      "id": "9d85069a",
      "metadata": {
        "id": "9d85069a"
      },
      "source": [
        "**Repaso Clasificación para Analisis de datos**"
      ]
    },
    {
      "cell_type": "markdown",
      "id": "f28483b2",
      "metadata": {
        "id": "f28483b2"
      },
      "source": [
        "Ejercicio de clasificación, para diagnosticar medicamenttos basándose en las caracteristicas de los pacientes."
      ]
    },
    {
      "cell_type": "markdown",
      "source": [
        "Se quiere profundizar en el tema de clasificación. Nos centraremos en un set de datos que contiene información médica y las siguientes especificaciones:\n",
        "\n",
        "\n",
        "\n",
        "\n",
        "*   Se tienen 5 tipos de medicamentos, el de tipo A, B, C, X y el de tipo Y.\n",
        "*   Cada tipo de medicamento reacciona mejor dependiendo el tipo de paciente.\n",
        "* Para definir que tipo de medicamento requiere cada paciente se cuenta con su edad, su género, su nivel de presión sanguínea, su colesterol y su nivel de sodio a potasio en la sangre.\n",
        "* Los datos contienen 200 ejemplos de pacientes con características diferentes y el tipo de medicamento que deberían de consumir\n",
        "\n",
        "\n",
        "***El propósito general de este ejemplo es implementar un modelo de ML que se entrene con estos datos y al ingresar un paciente nuevo, el modelo le pueda asignar un tipo de medicamento, basándose en sus características.***"
      ],
      "metadata": {
        "id": "FYQuqQN1Q5kv"
      },
      "id": "FYQuqQN1Q5kv"
    },
    {
      "cell_type": "markdown",
      "id": "0f1b7738",
      "metadata": {
        "id": "0f1b7738"
      },
      "source": [
        "**Descargar Datos**\n"
      ]
    },
    {
      "cell_type": "code",
      "execution_count": 2,
      "id": "9778512d",
      "metadata": {
        "id": "9778512d"
      },
      "outputs": [],
      "source": [
        "# Importa las librerias\n",
        "import pandas as pd\n",
        "import numpy as np\n",
        "import matplotlib.pyplot as plt\n"
      ]
    },
    {
      "cell_type": "code",
      "source": [
        "url='https://raw.githubusercontent.com/jofsanchezci/Ejemplo_Clasificacion_A/main/data_set_1.csv'\n",
        "df=pd.read_csv(url)"
      ],
      "metadata": {
        "id": "TV0CnXgfPBpI"
      },
      "id": "TV0CnXgfPBpI",
      "execution_count": 3,
      "outputs": []
    },
    {
      "cell_type": "code",
      "source": [
        "#Mostrar el data set\n",
        "df.head(10)"
      ],
      "metadata": {
        "colab": {
          "base_uri": "https://localhost:8080/",
          "height": 363
        },
        "id": "5XvJ3_Azh-gf",
        "outputId": "99fefaa2-fb6b-4244-b4c3-c5c4c66baafa"
      },
      "id": "5XvJ3_Azh-gf",
      "execution_count": 5,
      "outputs": [
        {
          "output_type": "execute_result",
          "data": {
            "text/plain": [
              "   Age Sex      BP Cholesterol  Na_to_K   Drug\n",
              "0   23   F    HIGH        HIGH   25.355  DrugY\n",
              "1   47   M     LOW        HIGH   13.093  drugC\n",
              "2   47   M     LOW        HIGH   10.114  drugC\n",
              "3   28   F  NORMAL        HIGH    7.798  drugX\n",
              "4   61   F     LOW        HIGH   18.043  DrugY\n",
              "5   22   F  NORMAL        HIGH    8.607  drugX\n",
              "6   49   F  NORMAL        HIGH   16.275  DrugY\n",
              "7   41   M     LOW        HIGH   11.037  drugC\n",
              "8   60   M  NORMAL        HIGH   15.171  DrugY\n",
              "9   43   M     LOW      NORMAL   19.368  DrugY"
            ],
            "text/html": [
              "\n",
              "  <div id=\"df-f70d4e1d-1b36-4ac8-afa2-e2625035ed16\">\n",
              "    <div class=\"colab-df-container\">\n",
              "      <div>\n",
              "<style scoped>\n",
              "    .dataframe tbody tr th:only-of-type {\n",
              "        vertical-align: middle;\n",
              "    }\n",
              "\n",
              "    .dataframe tbody tr th {\n",
              "        vertical-align: top;\n",
              "    }\n",
              "\n",
              "    .dataframe thead th {\n",
              "        text-align: right;\n",
              "    }\n",
              "</style>\n",
              "<table border=\"1\" class=\"dataframe\">\n",
              "  <thead>\n",
              "    <tr style=\"text-align: right;\">\n",
              "      <th></th>\n",
              "      <th>Age</th>\n",
              "      <th>Sex</th>\n",
              "      <th>BP</th>\n",
              "      <th>Cholesterol</th>\n",
              "      <th>Na_to_K</th>\n",
              "      <th>Drug</th>\n",
              "    </tr>\n",
              "  </thead>\n",
              "  <tbody>\n",
              "    <tr>\n",
              "      <th>0</th>\n",
              "      <td>23</td>\n",
              "      <td>F</td>\n",
              "      <td>HIGH</td>\n",
              "      <td>HIGH</td>\n",
              "      <td>25.355</td>\n",
              "      <td>DrugY</td>\n",
              "    </tr>\n",
              "    <tr>\n",
              "      <th>1</th>\n",
              "      <td>47</td>\n",
              "      <td>M</td>\n",
              "      <td>LOW</td>\n",
              "      <td>HIGH</td>\n",
              "      <td>13.093</td>\n",
              "      <td>drugC</td>\n",
              "    </tr>\n",
              "    <tr>\n",
              "      <th>2</th>\n",
              "      <td>47</td>\n",
              "      <td>M</td>\n",
              "      <td>LOW</td>\n",
              "      <td>HIGH</td>\n",
              "      <td>10.114</td>\n",
              "      <td>drugC</td>\n",
              "    </tr>\n",
              "    <tr>\n",
              "      <th>3</th>\n",
              "      <td>28</td>\n",
              "      <td>F</td>\n",
              "      <td>NORMAL</td>\n",
              "      <td>HIGH</td>\n",
              "      <td>7.798</td>\n",
              "      <td>drugX</td>\n",
              "    </tr>\n",
              "    <tr>\n",
              "      <th>4</th>\n",
              "      <td>61</td>\n",
              "      <td>F</td>\n",
              "      <td>LOW</td>\n",
              "      <td>HIGH</td>\n",
              "      <td>18.043</td>\n",
              "      <td>DrugY</td>\n",
              "    </tr>\n",
              "    <tr>\n",
              "      <th>5</th>\n",
              "      <td>22</td>\n",
              "      <td>F</td>\n",
              "      <td>NORMAL</td>\n",
              "      <td>HIGH</td>\n",
              "      <td>8.607</td>\n",
              "      <td>drugX</td>\n",
              "    </tr>\n",
              "    <tr>\n",
              "      <th>6</th>\n",
              "      <td>49</td>\n",
              "      <td>F</td>\n",
              "      <td>NORMAL</td>\n",
              "      <td>HIGH</td>\n",
              "      <td>16.275</td>\n",
              "      <td>DrugY</td>\n",
              "    </tr>\n",
              "    <tr>\n",
              "      <th>7</th>\n",
              "      <td>41</td>\n",
              "      <td>M</td>\n",
              "      <td>LOW</td>\n",
              "      <td>HIGH</td>\n",
              "      <td>11.037</td>\n",
              "      <td>drugC</td>\n",
              "    </tr>\n",
              "    <tr>\n",
              "      <th>8</th>\n",
              "      <td>60</td>\n",
              "      <td>M</td>\n",
              "      <td>NORMAL</td>\n",
              "      <td>HIGH</td>\n",
              "      <td>15.171</td>\n",
              "      <td>DrugY</td>\n",
              "    </tr>\n",
              "    <tr>\n",
              "      <th>9</th>\n",
              "      <td>43</td>\n",
              "      <td>M</td>\n",
              "      <td>LOW</td>\n",
              "      <td>NORMAL</td>\n",
              "      <td>19.368</td>\n",
              "      <td>DrugY</td>\n",
              "    </tr>\n",
              "  </tbody>\n",
              "</table>\n",
              "</div>\n",
              "      <button class=\"colab-df-convert\" onclick=\"convertToInteractive('df-f70d4e1d-1b36-4ac8-afa2-e2625035ed16')\"\n",
              "              title=\"Convert this dataframe to an interactive table.\"\n",
              "              style=\"display:none;\">\n",
              "        \n",
              "  <svg xmlns=\"http://www.w3.org/2000/svg\" height=\"24px\"viewBox=\"0 0 24 24\"\n",
              "       width=\"24px\">\n",
              "    <path d=\"M0 0h24v24H0V0z\" fill=\"none\"/>\n",
              "    <path d=\"M18.56 5.44l.94 2.06.94-2.06 2.06-.94-2.06-.94-.94-2.06-.94 2.06-2.06.94zm-11 1L8.5 8.5l.94-2.06 2.06-.94-2.06-.94L8.5 2.5l-.94 2.06-2.06.94zm10 10l.94 2.06.94-2.06 2.06-.94-2.06-.94-.94-2.06-.94 2.06-2.06.94z\"/><path d=\"M17.41 7.96l-1.37-1.37c-.4-.4-.92-.59-1.43-.59-.52 0-1.04.2-1.43.59L10.3 9.45l-7.72 7.72c-.78.78-.78 2.05 0 2.83L4 21.41c.39.39.9.59 1.41.59.51 0 1.02-.2 1.41-.59l7.78-7.78 2.81-2.81c.8-.78.8-2.07 0-2.86zM5.41 20L4 18.59l7.72-7.72 1.47 1.35L5.41 20z\"/>\n",
              "  </svg>\n",
              "      </button>\n",
              "      \n",
              "  <style>\n",
              "    .colab-df-container {\n",
              "      display:flex;\n",
              "      flex-wrap:wrap;\n",
              "      gap: 12px;\n",
              "    }\n",
              "\n",
              "    .colab-df-convert {\n",
              "      background-color: #E8F0FE;\n",
              "      border: none;\n",
              "      border-radius: 50%;\n",
              "      cursor: pointer;\n",
              "      display: none;\n",
              "      fill: #1967D2;\n",
              "      height: 32px;\n",
              "      padding: 0 0 0 0;\n",
              "      width: 32px;\n",
              "    }\n",
              "\n",
              "    .colab-df-convert:hover {\n",
              "      background-color: #E2EBFA;\n",
              "      box-shadow: 0px 1px 2px rgba(60, 64, 67, 0.3), 0px 1px 3px 1px rgba(60, 64, 67, 0.15);\n",
              "      fill: #174EA6;\n",
              "    }\n",
              "\n",
              "    [theme=dark] .colab-df-convert {\n",
              "      background-color: #3B4455;\n",
              "      fill: #D2E3FC;\n",
              "    }\n",
              "\n",
              "    [theme=dark] .colab-df-convert:hover {\n",
              "      background-color: #434B5C;\n",
              "      box-shadow: 0px 1px 3px 1px rgba(0, 0, 0, 0.15);\n",
              "      filter: drop-shadow(0px 1px 2px rgba(0, 0, 0, 0.3));\n",
              "      fill: #FFFFFF;\n",
              "    }\n",
              "  </style>\n",
              "\n",
              "      <script>\n",
              "        const buttonEl =\n",
              "          document.querySelector('#df-f70d4e1d-1b36-4ac8-afa2-e2625035ed16 button.colab-df-convert');\n",
              "        buttonEl.style.display =\n",
              "          google.colab.kernel.accessAllowed ? 'block' : 'none';\n",
              "\n",
              "        async function convertToInteractive(key) {\n",
              "          const element = document.querySelector('#df-f70d4e1d-1b36-4ac8-afa2-e2625035ed16');\n",
              "          const dataTable =\n",
              "            await google.colab.kernel.invokeFunction('convertToInteractive',\n",
              "                                                     [key], {});\n",
              "          if (!dataTable) return;\n",
              "\n",
              "          const docLinkHtml = 'Like what you see? Visit the ' +\n",
              "            '<a target=\"_blank\" href=https://colab.research.google.com/notebooks/data_table.ipynb>data table notebook</a>'\n",
              "            + ' to learn more about interactive tables.';\n",
              "          element.innerHTML = '';\n",
              "          dataTable['output_type'] = 'display_data';\n",
              "          await google.colab.output.renderOutput(dataTable, element);\n",
              "          const docLink = document.createElement('div');\n",
              "          docLink.innerHTML = docLinkHtml;\n",
              "          element.appendChild(docLink);\n",
              "        }\n",
              "      </script>\n",
              "    </div>\n",
              "  </div>\n",
              "  "
            ]
          },
          "metadata": {},
          "execution_count": 5
        }
      ]
    },
    {
      "cell_type": "code",
      "execution_count": 4,
      "id": "170ce4ae",
      "metadata": {
        "colab": {
          "base_uri": "https://localhost:8080/"
        },
        "id": "170ce4ae",
        "outputId": "9bc7d38d-9099-4a3e-8055-604960644669"
      },
      "outputs": [
        {
          "output_type": "stream",
          "name": "stdout",
          "text": [
            "<class 'pandas.core.frame.DataFrame'>\n",
            "RangeIndex: 200 entries, 0 to 199\n",
            "Data columns (total 6 columns):\n",
            " #   Column       Non-Null Count  Dtype  \n",
            "---  ------       --------------  -----  \n",
            " 0   Age          200 non-null    int64  \n",
            " 1   Sex          200 non-null    object \n",
            " 2   BP           200 non-null    object \n",
            " 3   Cholesterol  200 non-null    object \n",
            " 4   Na_to_K      200 non-null    float64\n",
            " 5   Drug         200 non-null    object \n",
            "dtypes: float64(1), int64(1), object(4)\n",
            "memory usage: 9.5+ KB\n"
          ]
        }
      ],
      "source": [
        "# Obten información de los datos.\n",
        "df.info()"
      ]
    },
    {
      "cell_type": "markdown",
      "id": "39f196f8-d5d5-466e-857b-fbde89d224f5",
      "metadata": {
        "id": "39f196f8-d5d5-466e-857b-fbde89d224f5"
      },
      "source": [
        "**Análisis de cada Variable**"
      ]
    },
    {
      "cell_type": "code",
      "execution_count": 8,
      "id": "08e75eb2",
      "metadata": {
        "colab": {
          "base_uri": "https://localhost:8080/",
          "height": 542
        },
        "id": "08e75eb2",
        "outputId": "9ad07338-4c0f-4310-80b8-b46217bb3ae4"
      },
      "outputs": [
        {
          "output_type": "stream",
          "name": "stdout",
          "text": [
            "Max Edad: 74\n",
            "Min Edad: 15\n"
          ]
        },
        {
          "output_type": "display_data",
          "data": {
            "text/plain": [
              "<Figure size 500x500 with 1 Axes>"
            ],
            "image/png": "[encoded data removed]"
          },
          "metadata": {}
        }
      ],
      "source": [
        "import seaborn as sns\n",
        "# Analiza la edad, visualiza sus máximos y mínimos\n",
        "print(\"Max Edad:\", df.Age.max())\n",
        "print(\"Min Edad:\", df.Age.min())\n",
        "#Gráfica la variable\n",
        "#Establece una área de figsize(9,5) es decir, el tamaño de la imagen\n",
        "#plt.figure(figsize = (9,5))\n",
        "#Crea un displot para de la edad (por ser una variable numérica)\n",
        "sns.displot(df.Age,kde=True)\n",
        "plt.show()\n"
      ]
    },
    {
      "cell_type": "code",
      "execution_count": 9,
      "id": "6f180aa1",
      "metadata": {
        "colab": {
          "base_uri": "https://localhost:8080/"
        },
        "id": "6f180aa1",
        "outputId": "98a91321-ed6d-4e35-df9f-4d23767248f5"
      },
      "outputs": [
        {
          "output_type": "execute_result",
          "data": {
            "text/plain": [
              "M    104\n",
              "F     96\n",
              "Name: Sex, dtype: int64"
            ]
          },
          "metadata": {},
          "execution_count": 9
        }
      ],
      "source": [
        "# Género: cuenta cuántos hombres y mujeres hay\n",
        "df.Sex.value_counts()"
      ]
    },
    {
      "cell_type": "code",
      "execution_count": 11,
      "id": "cdc6b68f",
      "metadata": {
        "colab": {
          "base_uri": "https://localhost:8080/",
          "height": 466
        },
        "id": "cdc6b68f",
        "outputId": "78f402a3-c7f5-487c-fe74-e3215a675fd4"
      },
      "outputs": [
        {
          "output_type": "display_data",
          "data": {
            "text/plain": [
              "<Figure size 900x500 with 1 Axes>"
            ],
            "image/png": "[encoded data removed]"
          },
          "metadata": {}
        }
      ],
      "source": [
        "# Crear una gráfica de barras para Presión Sanguinea\n",
        "plt.figure(figsize = (9,5))\n",
        "sns.histplot(data=df,x=\"BP\",hue=\"BP\")\n",
        "plt.grid()\n",
        "plt.show()"
      ]
    },
    {
      "cell_type": "code",
      "source": [
        "#Crear la grafica con matplot-lib\n",
        "H,L,N=df.BP.value_counts()\n",
        "presion=[H,L,N]\n",
        "etiqueta=['Alto','Bajo', 'Normal']\n"
      ],
      "metadata": {
        "id": "fWXEWpdvkMXi"
      },
      "id": "fWXEWpdvkMXi",
      "execution_count": 22,
      "outputs": []
    },
    {
      "cell_type": "code",
      "source": [
        "#El garfico con Matplot.lib\n",
        "plt.bar(etiqueta,presion)\n",
        "plt.xlabel('BP')\n",
        "plt.ylabel('Numero')\n",
        "plt.title('Análisi de la variable BP')\n",
        "plt.grid()\n",
        "plt.show()"
      ],
      "metadata": {
        "colab": {
          "base_uri": "https://localhost:8080/",
          "height": 472
        },
        "id": "Ry9utKN9k0SP",
        "outputId": "191b7801-ef1a-4a43-a250-b0b97a3242dd"
      },
      "id": "Ry9utKN9k0SP",
      "execution_count": 24,
      "outputs": [
        {
          "output_type": "display_data",
          "data": {
            "text/plain": [
              "<Figure size 640x480 with 1 Axes>"
            ],
            "image/png": "[encoded data removed]"
          },
          "metadata": {}
        }
      ]
    },
    {
      "cell_type": "code",
      "execution_count": 26,
      "id": "7189311b",
      "metadata": {
        "colab": {
          "base_uri": "https://localhost:8080/",
          "height": 488
        },
        "id": "7189311b",
        "outputId": "1c2d434b-b1e7-455d-f273-a943c51877d8"
      },
      "outputs": [
        {
          "output_type": "display_data",
          "data": {
            "text/plain": [
              "<Figure size 900x500 with 1 Axes>"
            ],
            "image/png": "[encoded data removed]"
          },
          "metadata": {}
        }
      ],
      "source": [
        "# Crear una gráfica de barras para Colesterol\n",
        "plt.figure(figsize = (9,5))\n",
        "sns.histplot(data=df,x=\"Cholesterol\",hue=\"Cholesterol\")\n",
        "plt.title('Comparación de los niveles de colesterol')\n",
        "plt.grid()\n",
        "plt.show()"
      ]
    },
    {
      "cell_type": "code",
      "execution_count": 28,
      "id": "60bded5c",
      "metadata": {
        "colab": {
          "base_uri": "https://localhost:8080/",
          "height": 529
        },
        "id": "60bded5c",
        "outputId": "51852fa5-a1cc-49fd-bbd9-48dded2be08f"
      },
      "outputs": [
        {
          "output_type": "display_data",
          "data": {
            "text/plain": [
              "<Figure size 500x500 with 1 Axes>"
            ],
            "image/png": "[encoded data removed]"
          },
          "metadata": {}
        }
      ],
      "source": [
        "# Crear un displot para Sodio Potasio\n",
        "#plt.figure(figsize = (9,5))\n",
        "sns.displot(df.Na_to_K,kde=True)\n",
        "plt.title('Distribución de Sodio Potacio en los registros')\n",
        "plt.grid()\n",
        "plt.show()"
      ]
    },
    {
      "cell_type": "code",
      "execution_count": 29,
      "id": "49538c51",
      "metadata": {
        "colab": {
          "base_uri": "https://localhost:8080/",
          "height": 595
        },
        "id": "49538c51",
        "outputId": "4f04ade3-b26e-481f-b4b9-eeaf7fa962e1"
      },
      "outputs": [
        {
          "output_type": "display_data",
          "data": {
            "text/plain": [
              "<Figure size 900x500 with 1 Axes>"
            ],
            "image/png": "[encoded data removed]"
          },
          "metadata": {}
        },
        {
          "output_type": "execute_result",
          "data": {
            "text/plain": [
              "DrugY    91\n",
              "drugX    54\n",
              "drugA    23\n",
              "drugC    16\n",
              "drugB    16\n",
              "Name: Drug, dtype: int64"
            ]
          },
          "metadata": {},
          "execution_count": 29
        }
      ],
      "source": [
        "# Crea una gráfica de barras para los Medicamentos\n",
        "plt.figure(figsize = (9,5))\n",
        "sns.histplot(data=df,x=\"Drug\",hue=\"Drug\")\n",
        "plt.title('Distribución de los medicamento para los registros')\n",
        "plt.grid()\n",
        "plt.show()\n",
        "#Cuenta los medicamentos\n",
        "df.Drug.value_counts()\n"
      ]
    },
    {
      "cell_type": "markdown",
      "id": "1797db2e-0be1-45a9-9496-6f7ce3580db6",
      "metadata": {
        "id": "1797db2e-0be1-45a9-9496-6f7ce3580db6"
      },
      "source": [
        "***"
      ]
    },
    {
      "cell_type": "markdown",
      "id": "736b6587-e7a8-4000-b8d3-e1c74c4ad6a2",
      "metadata": {
        "id": "736b6587-e7a8-4000-b8d3-e1c74c4ad6a2"
      },
      "source": [
        "**Análisis de Relación entre Variables**\n"
      ]
    },
    {
      "cell_type": "code",
      "execution_count": 30,
      "id": "b24725f4",
      "metadata": {
        "colab": {
          "base_uri": "https://localhost:8080/",
          "height": 487
        },
        "id": "b24725f4",
        "outputId": "15af30d1-56f8-43f7-8f58-360f8b29cce6"
      },
      "outputs": [
        {
          "output_type": "display_data",
          "data": {
            "text/plain": [
              "<Figure size 900x500 with 1 Axes>"
            ],
            "image/png": "[encoded data removed]"
          },
          "metadata": {}
        }
      ],
      "source": [
        "## Grafica (con swarmplot) la relación entre la Edad y los Medicamentos dados\n",
        "plt.figure(figsize = (9,5))\n",
        "sns.swarmplot(x = \"Drug\", y = \"Age\",data = df)\n",
        "plt.legend(df.Drug.value_counts().index)\n",
        "plt.title(\"Edad/Medicamento\")\n",
        "plt.grid()\n",
        "plt.show()"
      ]
    },
    {
      "cell_type": "code",
      "source": [
        "#Utilizando matplot lib se pueda anlizar la distribución de losmedicamentos vs\n",
        "#las edades\n",
        "df.head(1)"
      ],
      "metadata": {
        "colab": {
          "base_uri": "https://localhost:8080/",
          "height": 81
        },
        "id": "AwQ0O5m3ooXJ",
        "outputId": "eabbfe0a-6d7f-4ae1-b610-ebe6a20fa3bb"
      },
      "id": "AwQ0O5m3ooXJ",
      "execution_count": 33,
      "outputs": [
        {
          "output_type": "execute_result",
          "data": {
            "text/plain": [
              "   Age Sex    BP Cholesterol  Na_to_K   Drug\n",
              "0   23   F  HIGH        HIGH   25.355  DrugY"
            ],
            "text/html": [
              "\n",
              "  <div id=\"df-9b9c17ad-7838-47e5-89a6-f7fb4dd2129c\">\n",
              "    <div class=\"colab-df-container\">\n",
              "      <div>\n",
              "<style scoped>\n",
              "    .dataframe tbody tr th:only-of-type {\n",
              "        vertical-align: middle;\n",
              "    }\n",
              "\n",
              "    .dataframe tbody tr th {\n",
              "        vertical-align: top;\n",
              "    }\n",
              "\n",
              "    .dataframe thead th {\n",
              "        text-align: right;\n",
              "    }\n",
              "</style>\n",
              "<table border=\"1\" class=\"dataframe\">\n",
              "  <thead>\n",
              "    <tr style=\"text-align: right;\">\n",
              "      <th></th>\n",
              "      <th>Age</th>\n",
              "      <th>Sex</th>\n",
              "      <th>BP</th>\n",
              "      <th>Cholesterol</th>\n",
              "      <th>Na_to_K</th>\n",
              "      <th>Drug</th>\n",
              "    </tr>\n",
              "  </thead>\n",
              "  <tbody>\n",
              "    <tr>\n",
              "      <th>0</th>\n",
              "      <td>23</td>\n",
              "      <td>F</td>\n",
              "      <td>HIGH</td>\n",
              "      <td>HIGH</td>\n",
              "      <td>25.355</td>\n",
              "      <td>DrugY</td>\n",
              "    </tr>\n",
              "  </tbody>\n",
              "</table>\n",
              "</div>\n",
              "      <button class=\"colab-df-convert\" onclick=\"convertToInteractive('df-9b9c17ad-7838-47e5-89a6-f7fb4dd2129c')\"\n",
              "              title=\"Convert this dataframe to an interactive table.\"\n",
              "              style=\"display:none;\">\n",
              "        \n",
              "  <svg xmlns=\"http://www.w3.org/2000/svg\" height=\"24px\"viewBox=\"0 0 24 24\"\n",
              "       width=\"24px\">\n",
              "    <path d=\"M0 0h24v24H0V0z\" fill=\"none\"/>\n",
              "    <path d=\"M18.56 5.44l.94 2.06.94-2.06 2.06-.94-2.06-.94-.94-2.06-.94 2.06-2.06.94zm-11 1L8.5 8.5l.94-2.06 2.06-.94-2.06-.94L8.5 2.5l-.94 2.06-2.06.94zm10 10l.94 2.06.94-2.06 2.06-.94-2.06-.94-.94-2.06-.94 2.06-2.06.94z\"/><path d=\"M17.41 7.96l-1.37-1.37c-.4-.4-.92-.59-1.43-.59-.52 0-1.04.2-1.43.59L10.3 9.45l-7.72 7.72c-.78.78-.78 2.05 0 2.83L4 21.41c.39.39.9.59 1.41.59.51 0 1.02-.2 1.41-.59l7.78-7.78 2.81-2.81c.8-.78.8-2.07 0-2.86zM5.41 20L4 18.59l7.72-7.72 1.47 1.35L5.41 20z\"/>\n",
              "  </svg>\n",
              "      </button>\n",
              "      \n",
              "  <style>\n",
              "    .colab-df-container {\n",
              "      display:flex;\n",
              "      flex-wrap:wrap;\n",
              "      gap: 12px;\n",
              "    }\n",
              "\n",
              "    .colab-df-convert {\n",
              "      background-color: #E8F0FE;\n",
              "      border: none;\n",
              "      border-radius: 50%;\n",
              "      cursor: pointer;\n",
              "      display: none;\n",
              "      fill: #1967D2;\n",
              "      height: 32px;\n",
              "      padding: 0 0 0 0;\n",
              "      width: 32px;\n",
              "    }\n",
              "\n",
              "    .colab-df-convert:hover {\n",
              "      background-color: #E2EBFA;\n",
              "      box-shadow: 0px 1px 2px rgba(60, 64, 67, 0.3), 0px 1px 3px 1px rgba(60, 64, 67, 0.15);\n",
              "      fill: #174EA6;\n",
              "    }\n",
              "\n",
              "    [theme=dark] .colab-df-convert {\n",
              "      background-color: #3B4455;\n",
              "      fill: #D2E3FC;\n",
              "    }\n",
              "\n",
              "    [theme=dark] .colab-df-convert:hover {\n",
              "      background-color: #434B5C;\n",
              "      box-shadow: 0px 1px 3px 1px rgba(0, 0, 0, 0.15);\n",
              "      filter: drop-shadow(0px 1px 2px rgba(0, 0, 0, 0.3));\n",
              "      fill: #FFFFFF;\n",
              "    }\n",
              "  </style>\n",
              "\n",
              "      <script>\n",
              "        const buttonEl =\n",
              "          document.querySelector('#df-9b9c17ad-7838-47e5-89a6-f7fb4dd2129c button.colab-df-convert');\n",
              "        buttonEl.style.display =\n",
              "          google.colab.kernel.accessAllowed ? 'block' : 'none';\n",
              "\n",
              "        async function convertToInteractive(key) {\n",
              "          const element = document.querySelector('#df-9b9c17ad-7838-47e5-89a6-f7fb4dd2129c');\n",
              "          const dataTable =\n",
              "            await google.colab.kernel.invokeFunction('convertToInteractive',\n",
              "                                                     [key], {});\n",
              "          if (!dataTable) return;\n",
              "\n",
              "          const docLinkHtml = 'Like what you see? Visit the ' +\n",
              "            '<a target=\"_blank\" href=https://colab.research.google.com/notebooks/data_table.ipynb>data table notebook</a>'\n",
              "            + ' to learn more about interactive tables.';\n",
              "          element.innerHTML = '';\n",
              "          dataTable['output_type'] = 'display_data';\n",
              "          await google.colab.output.renderOutput(dataTable, element);\n",
              "          const docLink = document.createElement('div');\n",
              "          docLink.innerHTML = docLinkHtml;\n",
              "          element.appendChild(docLink);\n",
              "        }\n",
              "      </script>\n",
              "    </div>\n",
              "  </div>\n",
              "  "
            ]
          },
          "metadata": {},
          "execution_count": 33
        }
      ]
    },
    {
      "cell_type": "code",
      "source": [
        "#datosV.groupby(datosV['departamento']).count()[['cantidad']]\n",
        "df.groupby(df['Drug']).count()[['Age']]"
      ],
      "metadata": {
        "colab": {
          "base_uri": "https://localhost:8080/",
          "height": 237
        },
        "id": "Yqy0O-R9pTCG",
        "outputId": "1a23d0d2-59dd-424e-9256-076d5dc0d846"
      },
      "id": "Yqy0O-R9pTCG",
      "execution_count": 35,
      "outputs": [
        {
          "output_type": "execute_result",
          "data": {
            "text/plain": [
              "       Age\n",
              "Drug      \n",
              "DrugY   91\n",
              "drugA   23\n",
              "drugB   16\n",
              "drugC   16\n",
              "drugX   54"
            ],
            "text/html": [
              "\n",
              "  <div id=\"df-a8f8ae82-ef0d-4ca7-adb9-47bd0affcf94\">\n",
              "    <div class=\"colab-df-container\">\n",
              "      <div>\n",
              "<style scoped>\n",
              "    .dataframe tbody tr th:only-of-type {\n",
              "        vertical-align: middle;\n",
              "    }\n",
              "\n",
              "    .dataframe tbody tr th {\n",
              "        vertical-align: top;\n",
              "    }\n",
              "\n",
              "    .dataframe thead th {\n",
              "        text-align: right;\n",
              "    }\n",
              "</style>\n",
              "<table border=\"1\" class=\"dataframe\">\n",
              "  <thead>\n",
              "    <tr style=\"text-align: right;\">\n",
              "      <th></th>\n",
              "      <th>Age</th>\n",
              "    </tr>\n",
              "    <tr>\n",
              "      <th>Drug</th>\n",
              "      <th></th>\n",
              "    </tr>\n",
              "  </thead>\n",
              "  <tbody>\n",
              "    <tr>\n",
              "      <th>DrugY</th>\n",
              "      <td>91</td>\n",
              "    </tr>\n",
              "    <tr>\n",
              "      <th>drugA</th>\n",
              "      <td>23</td>\n",
              "    </tr>\n",
              "    <tr>\n",
              "      <th>drugB</th>\n",
              "      <td>16</td>\n",
              "    </tr>\n",
              "    <tr>\n",
              "      <th>drugC</th>\n",
              "      <td>16</td>\n",
              "    </tr>\n",
              "    <tr>\n",
              "      <th>drugX</th>\n",
              "      <td>54</td>\n",
              "    </tr>\n",
              "  </tbody>\n",
              "</table>\n",
              "</div>\n",
              "      <button class=\"colab-df-convert\" onclick=\"convertToInteractive('df-a8f8ae82-ef0d-4ca7-adb9-47bd0affcf94')\"\n",
              "              title=\"Convert this dataframe to an interactive table.\"\n",
              "              style=\"display:none;\">\n",
              "        \n",
              "  <svg xmlns=\"http://www.w3.org/2000/svg\" height=\"24px\"viewBox=\"0 0 24 24\"\n",
              "       width=\"24px\">\n",
              "    <path d=\"M0 0h24v24H0V0z\" fill=\"none\"/>\n",
              "    <path d=\"M18.56 5.44l.94 2.06.94-2.06 2.06-.94-2.06-.94-.94-2.06-.94 2.06-2.06.94zm-11 1L8.5 8.5l.94-2.06 2.06-.94-2.06-.94L8.5 2.5l-.94 2.06-2.06.94zm10 10l.94 2.06.94-2.06 2.06-.94-2.06-.94-.94-2.06-.94 2.06-2.06.94z\"/><path d=\"M17.41 7.96l-1.37-1.37c-.4-.4-.92-.59-1.43-.59-.52 0-1.04.2-1.43.59L10.3 9.45l-7.72 7.72c-.78.78-.78 2.05 0 2.83L4 21.41c.39.39.9.59 1.41.59.51 0 1.02-.2 1.41-.59l7.78-7.78 2.81-2.81c.8-.78.8-2.07 0-2.86zM5.41 20L4 18.59l7.72-7.72 1.47 1.35L5.41 20z\"/>\n",
              "  </svg>\n",
              "      </button>\n",
              "      \n",
              "  <style>\n",
              "    .colab-df-container {\n",
              "      display:flex;\n",
              "      flex-wrap:wrap;\n",
              "      gap: 12px;\n",
              "    }\n",
              "\n",
              "    .colab-df-convert {\n",
              "      background-color: #E8F0FE;\n",
              "      border: none;\n",
              "      border-radius: 50%;\n",
              "      cursor: pointer;\n",
              "      display: none;\n",
              "      fill: #1967D2;\n",
              "      height: 32px;\n",
              "      padding: 0 0 0 0;\n",
              "      width: 32px;\n",
              "    }\n",
              "\n",
              "    .colab-df-convert:hover {\n",
              "      background-color: #E2EBFA;\n",
              "      box-shadow: 0px 1px 2px rgba(60, 64, 67, 0.3), 0px 1px 3px 1px rgba(60, 64, 67, 0.15);\n",
              "      fill: #174EA6;\n",
              "    }\n",
              "\n",
              "    [theme=dark] .colab-df-convert {\n",
              "      background-color: #3B4455;\n",
              "      fill: #D2E3FC;\n",
              "    }\n",
              "\n",
              "    [theme=dark] .colab-df-convert:hover {\n",
              "      background-color: #434B5C;\n",
              "      box-shadow: 0px 1px 3px 1px rgba(0, 0, 0, 0.15);\n",
              "      filter: drop-shadow(0px 1px 2px rgba(0, 0, 0, 0.3));\n",
              "      fill: #FFFFFF;\n",
              "    }\n",
              "  </style>\n",
              "\n",
              "      <script>\n",
              "        const buttonEl =\n",
              "          document.querySelector('#df-a8f8ae82-ef0d-4ca7-adb9-47bd0affcf94 button.colab-df-convert');\n",
              "        buttonEl.style.display =\n",
              "          google.colab.kernel.accessAllowed ? 'block' : 'none';\n",
              "\n",
              "        async function convertToInteractive(key) {\n",
              "          const element = document.querySelector('#df-a8f8ae82-ef0d-4ca7-adb9-47bd0affcf94');\n",
              "          const dataTable =\n",
              "            await google.colab.kernel.invokeFunction('convertToInteractive',\n",
              "                                                     [key], {});\n",
              "          if (!dataTable) return;\n",
              "\n",
              "          const docLinkHtml = 'Like what you see? Visit the ' +\n",
              "            '<a target=\"_blank\" href=https://colab.research.google.com/notebooks/data_table.ipynb>data table notebook</a>'\n",
              "            + ' to learn more about interactive tables.';\n",
              "          element.innerHTML = '';\n",
              "          dataTable['output_type'] = 'display_data';\n",
              "          await google.colab.output.renderOutput(dataTable, element);\n",
              "          const docLink = document.createElement('div');\n",
              "          docLink.innerHTML = docLinkHtml;\n",
              "          element.appendChild(docLink);\n",
              "        }\n",
              "      </script>\n",
              "    </div>\n",
              "  </div>\n",
              "  "
            ]
          },
          "metadata": {},
          "execution_count": 35
        }
      ]
    },
    {
      "cell_type": "code",
      "source": [],
      "metadata": {
        "id": "A0CPAW0Ko9kL"
      },
      "id": "A0CPAW0Ko9kL",
      "execution_count": null,
      "outputs": []
    },
    {
      "cell_type": "code",
      "execution_count": 36,
      "id": "b2233b26",
      "metadata": {
        "colab": {
          "base_uri": "https://localhost:8080/",
          "height": 487
        },
        "id": "b2233b26",
        "outputId": "888179b0-05f0-4dfb-b584-c2805ff2035c"
      },
      "outputs": [
        {
          "output_type": "display_data",
          "data": {
            "text/plain": [
              "<Figure size 900x500 with 1 Axes>"
            ],
            "image/png": "[encoded data removed]"
          },
          "metadata": {}
        }
      ],
      "source": [
        "# Grafica la relación entre el el Género y los Medicamentos que se les da\n",
        "df_Sex_Drug = df.groupby([\"Drug\",\"Sex\"]).size().reset_index(name = \"Count\")\n",
        "#Grafica la tablita anterior con una gráfica de barras\n",
        "plt.figure(figsize = (9,5))\n",
        "sns.barplot(x = \"Drug\",y=\"Count\", hue = \"Sex\",data = df_Sex_Drug)\n",
        "plt.title(\"Género/Medicamento\")\n",
        "plt.grid()\n",
        "plt.show()"
      ]
    },
    {
      "cell_type": "code",
      "execution_count": 37,
      "id": "7fba93fc",
      "metadata": {
        "id": "7fba93fc",
        "outputId": "973751c2-dfed-4cfa-885d-fac1a8ec1261",
        "colab": {
          "base_uri": "https://localhost:8080/",
          "height": 488
        }
      },
      "outputs": [
        {
          "output_type": "display_data",
          "data": {
            "text/plain": [
              "<Figure size 900x500 with 1 Axes>"
            ],
            "image/png": "[encoded data removed]"
          },
          "metadata": {}
        }
      ],
      "source": [
        "# Grafica la relación entre la Presión Sanguínea y los Medicamentos\n",
        "df_BP_Drug = df.groupby([\"Drug\",\"BP\"]).size().reset_index(name = \"Count\")\n",
        "plt.figure(figsize = (9,5))\n",
        "sns.barplot(x = \"Drug\",y=\"Count\", hue = \"BP\",data = df_BP_Drug)\n",
        "plt.grid()\n",
        "plt.title(\"Presión Sanguinea/Medicamentos\")\n",
        "plt.show()"
      ]
    },
    {
      "cell_type": "code",
      "execution_count": null,
      "id": "a0d00f1e",
      "metadata": {
        "colab": {
          "base_uri": "https://localhost:8080/",
          "height": 505
        },
        "id": "a0d00f1e",
        "outputId": "0f5ca450-ed31-44c6-d0e7-44421114de84"
      },
      "outputs": [
        {
          "output_type": "execute_result",
          "data": {
            "text/plain": [
              "Text(0.5, 1.0, 'Colesterol/Medicamentos')"
            ]
          },
          "metadata": {},
          "execution_count": 22
        },
        {
          "output_type": "display_data",
          "data": {
            "text/plain": [
              "<Figure size 900x500 with 1 Axes>"
            ],
            "image/png": "[encoded data removed]"
          },
          "metadata": {}
        }
      ],
      "source": [
        "# Grafica (con una gráfica de barras)la relación entre el nivel de colesterol y los medicamentos\n",
        "df_CH_Drug = df.groupby([\"Drug\",\"Cholesterol\"]).size().reset_index(name = \"Count\")\n",
        "plt.figure(figsize = (9,5))\n",
        "sns.barplot(x = \"Drug\",y=\"Count\", hue = \"Cholesterol\",data = df_CH_Drug)\n",
        "plt.title(\"Colesterol/Medicamentos\")"
      ]
    },
    {
      "cell_type": "code",
      "execution_count": 41,
      "id": "a1baac67",
      "metadata": {
        "id": "a1baac67",
        "outputId": "02ede197-e5f2-4486-d77c-80295c978b43",
        "colab": {
          "base_uri": "https://localhost:8080/",
          "height": 487
        }
      },
      "outputs": [
        {
          "output_type": "display_data",
          "data": {
            "text/plain": [
              "<Figure size 900x500 with 1 Axes>"
            ],
            "image/png": "[encoded data removed]"
          },
          "metadata": {}
        }
      ],
      "source": [
        "#Grafica (con un swarmplot) la relación entre el nivel de Sodio-Potasio y los medicamentos que se les da\n",
        "plt.figure(figsize = (9,5))\n",
        "sns.swarmplot(x = \"Drug\", y = \"Na_to_K\",data = df)\n",
        "plt.title(\"Sodio-Potasio/Medicamentos\")\n",
        "plt.grid()\n",
        "plt.show()\n",
        "\n"
      ]
    },
    {
      "cell_type": "markdown",
      "id": "71aa2c62-820d-4fe1-8d8a-11ee79ccb844",
      "metadata": {
        "id": "71aa2c62-820d-4fe1-8d8a-11ee79ccb844"
      },
      "source": [
        "***"
      ]
    },
    {
      "cell_type": "markdown",
      "id": "443087ee-ad9e-4aea-ad74-29376817eabb",
      "metadata": {
        "id": "443087ee-ad9e-4aea-ad74-29376817eabb"
      },
      "source": [
        "**Limpieza y Separación de Datos**\n"
      ]
    },
    {
      "cell_type": "code",
      "execution_count": 45,
      "id": "29298ff4",
      "metadata": {
        "colab": {
          "base_uri": "https://localhost:8080/",
          "height": 363
        },
        "id": "29298ff4",
        "outputId": "f1424430-1e77-4394-ffc2-bf28ebb40a6e"
      },
      "outputs": [
        {
          "output_type": "execute_result",
          "data": {
            "text/plain": [
              "     Age  Sex  BP  Cholesterol  Na_to_K  Drug\n",
              "190   58    1   0            0      140     0\n",
              "191   23    1   0            0       12     1\n",
              "192   72    1   1            0      121     0\n",
              "193   72    1   1            0        2     3\n",
              "194   46    0   0            0      193     0\n",
              "195   56    0   1            0       69     3\n",
              "196   16    1   1            0       75     3\n",
              "197   52    1   2            0       36     4\n",
              "198   23    1   2            1      102     4\n",
              "199   40    0   1            1       66     4"
            ],
            "text/html": [
              "\n",
              "  <div id=\"df-a0e644b7-58e6-4be0-b9e1-18f1bddee516\">\n",
              "    <div class=\"colab-df-container\">\n",
              "      <div>\n",
              "<style scoped>\n",
              "    .dataframe tbody tr th:only-of-type {\n",
              "        vertical-align: middle;\n",
              "    }\n",
              "\n",
              "    .dataframe tbody tr th {\n",
              "        vertical-align: top;\n",
              "    }\n",
              "\n",
              "    .dataframe thead th {\n",
              "        text-align: right;\n",
              "    }\n",
              "</style>\n",
              "<table border=\"1\" class=\"dataframe\">\n",
              "  <thead>\n",
              "    <tr style=\"text-align: right;\">\n",
              "      <th></th>\n",
              "      <th>Age</th>\n",
              "      <th>Sex</th>\n",
              "      <th>BP</th>\n",
              "      <th>Cholesterol</th>\n",
              "      <th>Na_to_K</th>\n",
              "      <th>Drug</th>\n",
              "    </tr>\n",
              "  </thead>\n",
              "  <tbody>\n",
              "    <tr>\n",
              "      <th>190</th>\n",
              "      <td>58</td>\n",
              "      <td>1</td>\n",
              "      <td>0</td>\n",
              "      <td>0</td>\n",
              "      <td>140</td>\n",
              "      <td>0</td>\n",
              "    </tr>\n",
              "    <tr>\n",
              "      <th>191</th>\n",
              "      <td>23</td>\n",
              "      <td>1</td>\n",
              "      <td>0</td>\n",
              "      <td>0</td>\n",
              "      <td>12</td>\n",
              "      <td>1</td>\n",
              "    </tr>\n",
              "    <tr>\n",
              "      <th>192</th>\n",
              "      <td>72</td>\n",
              "      <td>1</td>\n",
              "      <td>1</td>\n",
              "      <td>0</td>\n",
              "      <td>121</td>\n",
              "      <td>0</td>\n",
              "    </tr>\n",
              "    <tr>\n",
              "      <th>193</th>\n",
              "      <td>72</td>\n",
              "      <td>1</td>\n",
              "      <td>1</td>\n",
              "      <td>0</td>\n",
              "      <td>2</td>\n",
              "      <td>3</td>\n",
              "    </tr>\n",
              "    <tr>\n",
              "      <th>194</th>\n",
              "      <td>46</td>\n",
              "      <td>0</td>\n",
              "      <td>0</td>\n",
              "      <td>0</td>\n",
              "      <td>193</td>\n",
              "      <td>0</td>\n",
              "    </tr>\n",
              "    <tr>\n",
              "      <th>195</th>\n",
              "      <td>56</td>\n",
              "      <td>0</td>\n",
              "      <td>1</td>\n",
              "      <td>0</td>\n",
              "      <td>69</td>\n",
              "      <td>3</td>\n",
              "    </tr>\n",
              "    <tr>\n",
              "      <th>196</th>\n",
              "      <td>16</td>\n",
              "      <td>1</td>\n",
              "      <td>1</td>\n",
              "      <td>0</td>\n",
              "      <td>75</td>\n",
              "      <td>3</td>\n",
              "    </tr>\n",
              "    <tr>\n",
              "      <th>197</th>\n",
              "      <td>52</td>\n",
              "      <td>1</td>\n",
              "      <td>2</td>\n",
              "      <td>0</td>\n",
              "      <td>36</td>\n",
              "      <td>4</td>\n",
              "    </tr>\n",
              "    <tr>\n",
              "      <th>198</th>\n",
              "      <td>23</td>\n",
              "      <td>1</td>\n",
              "      <td>2</td>\n",
              "      <td>1</td>\n",
              "      <td>102</td>\n",
              "      <td>4</td>\n",
              "    </tr>\n",
              "    <tr>\n",
              "      <th>199</th>\n",
              "      <td>40</td>\n",
              "      <td>0</td>\n",
              "      <td>1</td>\n",
              "      <td>1</td>\n",
              "      <td>66</td>\n",
              "      <td>4</td>\n",
              "    </tr>\n",
              "  </tbody>\n",
              "</table>\n",
              "</div>\n",
              "      <button class=\"colab-df-convert\" onclick=\"convertToInteractive('df-a0e644b7-58e6-4be0-b9e1-18f1bddee516')\"\n",
              "              title=\"Convert this dataframe to an interactive table.\"\n",
              "              style=\"display:none;\">\n",
              "        \n",
              "  <svg xmlns=\"http://www.w3.org/2000/svg\" height=\"24px\"viewBox=\"0 0 24 24\"\n",
              "       width=\"24px\">\n",
              "    <path d=\"M0 0h24v24H0V0z\" fill=\"none\"/>\n",
              "    <path d=\"M18.56 5.44l.94 2.06.94-2.06 2.06-.94-2.06-.94-.94-2.06-.94 2.06-2.06.94zm-11 1L8.5 8.5l.94-2.06 2.06-.94-2.06-.94L8.5 2.5l-.94 2.06-2.06.94zm10 10l.94 2.06.94-2.06 2.06-.94-2.06-.94-.94-2.06-.94 2.06-2.06.94z\"/><path d=\"M17.41 7.96l-1.37-1.37c-.4-.4-.92-.59-1.43-.59-.52 0-1.04.2-1.43.59L10.3 9.45l-7.72 7.72c-.78.78-.78 2.05 0 2.83L4 21.41c.39.39.9.59 1.41.59.51 0 1.02-.2 1.41-.59l7.78-7.78 2.81-2.81c.8-.78.8-2.07 0-2.86zM5.41 20L4 18.59l7.72-7.72 1.47 1.35L5.41 20z\"/>\n",
              "  </svg>\n",
              "      </button>\n",
              "      \n",
              "  <style>\n",
              "    .colab-df-container {\n",
              "      display:flex;\n",
              "      flex-wrap:wrap;\n",
              "      gap: 12px;\n",
              "    }\n",
              "\n",
              "    .colab-df-convert {\n",
              "      background-color: #E8F0FE;\n",
              "      border: none;\n",
              "      border-radius: 50%;\n",
              "      cursor: pointer;\n",
              "      display: none;\n",
              "      fill: #1967D2;\n",
              "      height: 32px;\n",
              "      padding: 0 0 0 0;\n",
              "      width: 32px;\n",
              "    }\n",
              "\n",
              "    .colab-df-convert:hover {\n",
              "      background-color: #E2EBFA;\n",
              "      box-shadow: 0px 1px 2px rgba(60, 64, 67, 0.3), 0px 1px 3px 1px rgba(60, 64, 67, 0.15);\n",
              "      fill: #174EA6;\n",
              "    }\n",
              "\n",
              "    [theme=dark] .colab-df-convert {\n",
              "      background-color: #3B4455;\n",
              "      fill: #D2E3FC;\n",
              "    }\n",
              "\n",
              "    [theme=dark] .colab-df-convert:hover {\n",
              "      background-color: #434B5C;\n",
              "      box-shadow: 0px 1px 3px 1px rgba(0, 0, 0, 0.15);\n",
              "      filter: drop-shadow(0px 1px 2px rgba(0, 0, 0, 0.3));\n",
              "      fill: #FFFFFF;\n",
              "    }\n",
              "  </style>\n",
              "\n",
              "      <script>\n",
              "        const buttonEl =\n",
              "          document.querySelector('#df-a0e644b7-58e6-4be0-b9e1-18f1bddee516 button.colab-df-convert');\n",
              "        buttonEl.style.display =\n",
              "          google.colab.kernel.accessAllowed ? 'block' : 'none';\n",
              "\n",
              "        async function convertToInteractive(key) {\n",
              "          const element = document.querySelector('#df-a0e644b7-58e6-4be0-b9e1-18f1bddee516');\n",
              "          const dataTable =\n",
              "            await google.colab.kernel.invokeFunction('convertToInteractive',\n",
              "                                                     [key], {});\n",
              "          if (!dataTable) return;\n",
              "\n",
              "          const docLinkHtml = 'Like what you see? Visit the ' +\n",
              "            '<a target=\"_blank\" href=https://colab.research.google.com/notebooks/data_table.ipynb>data table notebook</a>'\n",
              "            + ' to learn more about interactive tables.';\n",
              "          element.innerHTML = '';\n",
              "          dataTable['output_type'] = 'display_data';\n",
              "          await google.colab.output.renderOutput(dataTable, element);\n",
              "          const docLink = document.createElement('div');\n",
              "          docLink.innerHTML = docLinkHtml;\n",
              "          element.appendChild(docLink);\n",
              "        }\n",
              "      </script>\n",
              "    </div>\n",
              "  </div>\n",
              "  "
            ]
          },
          "metadata": {},
          "execution_count": 45
        }
      ],
      "source": [
        "## Utilizar LabelEncoder para procesar variables alfanuméricas como el sexo, BP, Colesterol, étc\n",
        "from sklearn.preprocessing import LabelEncoder\n",
        "\n",
        "def label_encoder(datos_categoria):\n",
        "    le = LabelEncoder()\n",
        "    df[datos_categoria] = le.fit_transform(df[datos_categoria])\n",
        "\n",
        "variables = [\"Sex\",\"BP\",\"Cholesterol\",\"Na_to_K\",\"Drug\"]\n",
        "\n",
        "for l in variables:\n",
        "    label_encoder(l)\n",
        "\n",
        "df.tail(10)"
      ]
    },
    {
      "cell_type": "code",
      "source": [
        "#sex: 0=F 1=M\n",
        "#BP: 0=ALTO 1:BAJO 2: NORMAL\n",
        "#Cholesteriol: 0=Alto 1=BAJO\n",
        "#Na_to_K: hace una conversion para tener enteros\n",
        "#Drug: 0=drogaY, 3=drugC, 4=drugX, 1=drugA* 2=durgB*"
      ],
      "metadata": {
        "id": "wEWhVPcaswXA"
      },
      "id": "wEWhVPcaswXA",
      "execution_count": 47,
      "outputs": []
    },
    {
      "cell_type": "code",
      "execution_count": 48,
      "id": "4144a67c",
      "metadata": {
        "id": "4144a67c"
      },
      "outputs": [],
      "source": [
        "# Crear set de entrenamiento y set de prueba\n",
        "x = df.drop([\"Drug\"],axis=1)\n",
        "y = df.Drug\n",
        "from sklearn.model_selection import train_test_split\n",
        "x_train, x_test, y_train, y_test = train_test_split(x,y,test_size = 0.2, random_state = 42, shuffle = True)"
      ]
    },
    {
      "cell_type": "markdown",
      "id": "795b737b-a8b5-47ec-b37a-25ddc33958a1",
      "metadata": {
        "id": "795b737b-a8b5-47ec-b37a-25ddc33958a1"
      },
      "source": [
        "El 20% de los datos, serán de prueba. Shuffle será true. Semilla de Aleatoriedad=42"
      ]
    },
    {
      "cell_type": "markdown",
      "id": "f1683e08-1f3d-417a-9070-52503a64503a",
      "metadata": {
        "id": "f1683e08-1f3d-417a-9070-52503a64503a"
      },
      "source": [
        "***"
      ]
    },
    {
      "cell_type": "markdown",
      "id": "72cc823f",
      "metadata": {
        "id": "72cc823f"
      },
      "source": [
        "**Modelo de Clasificación Binario**\n"
      ]
    },
    {
      "cell_type": "code",
      "execution_count": 49,
      "id": "c3288417",
      "metadata": {
        "id": "c3288417"
      },
      "outputs": [],
      "source": [
        "## Crear modelo para medicamento\n",
        "y_train_y = (y_train == 0)\n",
        "y_test_y = (y_test == 0)"
      ]
    },
    {
      "cell_type": "code",
      "source": [
        "print(y_train_y)\n",
        "print('-----------------')\n",
        "print(y_test_y)"
      ],
      "metadata": {
        "colab": {
          "base_uri": "https://localhost:8080/"
        },
        "id": "y-hxAA4mvF_A",
        "outputId": "2bf1f2b8-b5e4-46e8-a81e-87869d25ba9f"
      },
      "id": "y-hxAA4mvF_A",
      "execution_count": 52,
      "outputs": [
        {
          "output_type": "stream",
          "name": "stdout",
          "text": [
            "79     False\n",
            "197    False\n",
            "38     False\n",
            "24      True\n",
            "122     True\n",
            "       ...  \n",
            "106    False\n",
            "14     False\n",
            "92      True\n",
            "179     True\n",
            "102    False\n",
            "Name: Drug, Length: 160, dtype: bool\n",
            "-----------------\n",
            "95     False\n",
            "15      True\n",
            "30     False\n",
            "158    False\n",
            "128     True\n",
            "115     True\n",
            "69      True\n",
            "170    False\n",
            "174    False\n",
            "45     False\n",
            "66     False\n",
            "182    False\n",
            "165     True\n",
            "78     False\n",
            "186    False\n",
            "177     True\n",
            "56     False\n",
            "152    False\n",
            "82     False\n",
            "68      True\n",
            "124    False\n",
            "16     False\n",
            "148    False\n",
            "93      True\n",
            "65      True\n",
            "60      True\n",
            "84     False\n",
            "67     False\n",
            "125     True\n",
            "132    False\n",
            "9       True\n",
            "18     False\n",
            "55     False\n",
            "75      True\n",
            "150    False\n",
            "104     True\n",
            "135    False\n",
            "137    False\n",
            "164     True\n",
            "76     False\n",
            "Name: Drug, dtype: bool\n"
          ]
        }
      ]
    },
    {
      "cell_type": "markdown",
      "id": "58f623de-9a2c-440d-8e22-c431204df057",
      "metadata": {
        "id": "58f623de-9a2c-440d-8e22-c431204df057"
      },
      "source": [
        "Empezaremos con la medicina Y porque es la más popular y, por ende la más fácil de predecir"
      ]
    },
    {
      "cell_type": "code",
      "execution_count": 50,
      "id": "fba21bcb",
      "metadata": {
        "colab": {
          "base_uri": "https://localhost:8080/",
          "height": 75
        },
        "id": "fba21bcb",
        "outputId": "89c75b03-5cec-4612-aa00-f0521e08649f"
      },
      "outputs": [
        {
          "output_type": "execute_result",
          "data": {
            "text/plain": [
              "SGDClassifier(random_state=42)"
            ],
            "text/html": [
              "<style>#sk-container-id-1 {color: black;background-color: white;}#sk-container-id-1 pre{padding: 0;}#sk-container-id-1 div.sk-toggleable {background-color: white;}#sk-container-id-1 label.sk-toggleable__label {cursor: pointer;display: block;width: 100%;margin-bottom: 0;padding: 0.3em;box-sizing: border-box;text-align: center;}#sk-container-id-1 label.sk-toggleable__label-arrow:before {content: \"▸\";float: left;margin-right: 0.25em;color: #696969;}#sk-container-id-1 label.sk-toggleable__label-arrow:hover:before {color: black;}#sk-container-id-1 div.sk-estimator:hover label.sk-toggleable__label-arrow:before {color: black;}#sk-container-id-1 div.sk-toggleable__content {max-height: 0;max-width: 0;overflow: hidden;text-align: left;background-color: #f0f8ff;}#sk-container-id-1 div.sk-toggleable__content pre {margin: 0.2em;color: black;border-radius: 0.25em;background-color: #f0f8ff;}#sk-container-id-1 input.sk-toggleable__control:checked~div.sk-toggleable__content {max-height: 200px;max-width: 100%;overflow: auto;}#sk-container-id-1 input.sk-toggleable__control:checked~label.sk-toggleable__label-arrow:before {content: \"▾\";}#sk-container-id-1 div.sk-estimator input.sk-toggleable__control:checked~label.sk-toggleable__label {background-color: #d4ebff;}#sk-container-id-1 div.sk-label input.sk-toggleable__control:checked~label.sk-toggleable__label {background-color: #d4ebff;}#sk-container-id-1 input.sk-hidden--visually {border: 0;clip: rect(1px 1px 1px 1px);clip: rect(1px, 1px, 1px, 1px);height: 1px;margin: -1px;overflow: hidden;padding: 0;position: absolute;width: 1px;}#sk-container-id-1 div.sk-estimator {font-family: monospace;background-color: #f0f8ff;border: 1px dotted black;border-radius: 0.25em;box-sizing: border-box;margin-bottom: 0.5em;}#sk-container-id-1 div.sk-estimator:hover {background-color: #d4ebff;}#sk-container-id-1 div.sk-parallel-item::after {content: \"\";width: 100%;border-bottom: 1px solid gray;flex-grow: 1;}#sk-container-id-1 div.sk-label:hover label.sk-toggleable__label {background-color: #d4ebff;}#sk-container-id-1 div.sk-serial::before {content: \"\";position: absolute;border-left: 1px solid gray;box-sizing: border-box;top: 0;bottom: 0;left: 50%;z-index: 0;}#sk-container-id-1 div.sk-serial {display: flex;flex-direction: column;align-items: center;background-color: white;padding-right: 0.2em;padding-left: 0.2em;position: relative;}#sk-container-id-1 div.sk-item {position: relative;z-index: 1;}#sk-container-id-1 div.sk-parallel {display: flex;align-items: stretch;justify-content: center;background-color: white;position: relative;}#sk-container-id-1 div.sk-item::before, #sk-container-id-1 div.sk-parallel-item::before {content: \"\";position: absolute;border-left: 1px solid gray;box-sizing: border-box;top: 0;bottom: 0;left: 50%;z-index: -1;}#sk-container-id-1 div.sk-parallel-item {display: flex;flex-direction: column;z-index: 1;position: relative;background-color: white;}#sk-container-id-1 div.sk-parallel-item:first-child::after {align-self: flex-end;width: 50%;}#sk-container-id-1 div.sk-parallel-item:last-child::after {align-self: flex-start;width: 50%;}#sk-container-id-1 div.sk-parallel-item:only-child::after {width: 0;}#sk-container-id-1 div.sk-dashed-wrapped {border: 1px dashed gray;margin: 0 0.4em 0.5em 0.4em;box-sizing: border-box;padding-bottom: 0.4em;background-color: white;}#sk-container-id-1 div.sk-label label {font-family: monospace;font-weight: bold;display: inline-block;line-height: 1.2em;}#sk-container-id-1 div.sk-label-container {text-align: center;}#sk-container-id-1 div.sk-container {/* jupyter's `normalize.less` sets `[hidden] { display: none; }` but bootstrap.min.css set `[hidden] { display: none !important; }` so we also need the `!important` here to be able to override the default hidden behavior on the sphinx rendered scikit-learn.org. See: https://github.com/scikit-learn/scikit-learn/issues/21755 */display: inline-block !important;position: relative;}#sk-container-id-1 div.sk-text-repr-fallback {display: none;}</style><div id=\"sk-container-id-1\" class=\"sk-top-container\"><div class=\"sk-text-repr-fallback\"><pre>SGDClassifier(random_state=42)</pre><b>In a Jupyter environment, please rerun this cell to show the HTML representation or trust the notebook. <br />On GitHub, the HTML representation is unable to render, please try loading this page with nbviewer.org.</b></div><div class=\"sk-container\" hidden><div class=\"sk-item\"><div class=\"sk-estimator sk-toggleable\"><input class=\"sk-toggleable__control sk-hidden--visually\" id=\"sk-estimator-id-1\" type=\"checkbox\" checked><label for=\"sk-estimator-id-1\" class=\"sk-toggleable__label sk-toggleable__label-arrow\">SGDClassifier</label><div class=\"sk-toggleable__content\"><pre>SGDClassifier(random_state=42)</pre></div></div></div></div></div>"
            ]
          },
          "metadata": {},
          "execution_count": 50
        }
      ],
      "source": [
        "## Modelo SGD= Stochastic Gradient Descent\n",
        "from sklearn.linear_model import SGDClassifier\n",
        "sgd = SGDClassifier(random_state=42)\n",
        "sgd.fit(x_train,y_train_y)\n",
        "#sgd.predict([[47,1,1,0,8,0]])"
      ]
    },
    {
      "cell_type": "code",
      "source": [
        "sgd.predict([[47,1,1,0,8]])"
      ],
      "metadata": {
        "colab": {
          "base_uri": "https://localhost:8080/"
        },
        "id": "YaVOBEaCvme9",
        "outputId": "dacb7750-7bdc-4f08-f75b-86b80bce47a0"
      },
      "id": "YaVOBEaCvme9",
      "execution_count": 55,
      "outputs": [
        {
          "output_type": "stream",
          "name": "stderr",
          "text": [
            "/usr/local/lib/python3.10/dist-packages/sklearn/base.py:439: UserWarning: X does not have valid feature names, but SGDClassifier was fitted with feature names\n",
            "  warnings.warn(\n"
          ]
        },
        {
          "output_type": "execute_result",
          "data": {
            "text/plain": [
              "array([False])"
            ]
          },
          "metadata": {},
          "execution_count": 55
        }
      ]
    },
    {
      "cell_type": "code",
      "execution_count": 53,
      "id": "bf5088ac-ad82-4826-a146-1019f6d44069",
      "metadata": {
        "colab": {
          "base_uri": "https://localhost:8080/"
        },
        "id": "bf5088ac-ad82-4826-a146-1019f6d44069",
        "outputId": "d3a84e7a-0000-4c39-b924-fed8cd66aaa2"
      },
      "outputs": [
        {
          "output_type": "stream",
          "name": "stderr",
          "text": [
            "/usr/local/lib/python3.10/dist-packages/sklearn/base.py:439: UserWarning: X does not have valid feature names, but SGDClassifier was fitted with feature names\n",
            "  warnings.warn(\n"
          ]
        },
        {
          "output_type": "execute_result",
          "data": {
            "text/plain": [
              "(array([ True]), True)"
            ]
          },
          "metadata": {},
          "execution_count": 53
        }
      ],
      "source": [
        "#Predecir la medicina a tomar de un humano que ya sepas el resultado\n",
        "sgd.predict([x_train.loc[0]]), y_train_y.loc[42]"
      ]
    },
    {
      "cell_type": "markdown",
      "id": "aa86fe0e-0bfa-4e4c-ba92-b74675da354f",
      "metadata": {
        "id": "aa86fe0e-0bfa-4e4c-ba92-b74675da354f"
      },
      "source": [
        "para saber que le esta yendo bien al modelo tienen que coincidir los resultados"
      ]
    },
    {
      "cell_type": "markdown",
      "id": "66e61519-7db0-4674-9d42-09a56e0aa4ad",
      "metadata": {
        "id": "66e61519-7db0-4674-9d42-09a56e0aa4ad"
      },
      "source": [
        "***"
      ]
    },
    {
      "cell_type": "markdown",
      "id": "0a3c3270",
      "metadata": {
        "id": "0a3c3270"
      },
      "source": [
        "**Medidas de desempeño**\n"
      ]
    },
    {
      "cell_type": "markdown",
      "id": "f613829e-7173-4f3d-9134-419b8217e868",
      "metadata": {
        "id": "f613829e-7173-4f3d-9134-419b8217e868"
      },
      "source": [
        "**Exactitud**"
      ]
    },
    {
      "cell_type": "code",
      "execution_count": 56,
      "id": "8429ae01",
      "metadata": {
        "colab": {
          "base_uri": "https://localhost:8080/"
        },
        "id": "8429ae01",
        "outputId": "f7d7bbd0-ef89-4a35-f532-6f2b3f956fd9"
      },
      "outputs": [
        {
          "output_type": "execute_result",
          "data": {
            "text/plain": [
              "array([0.7962963 , 0.73584906, 0.71698113])"
            ]
          },
          "metadata": {},
          "execution_count": 56
        }
      ],
      "source": [
        "# Realiza una Cross validation/K-Folds\n",
        "from sklearn.model_selection import cross_val_score\n",
        "cross_val_score(sgd,x_train,y_train_y,cv=3,scoring=\"accuracy\")"
      ]
    },
    {
      "cell_type": "markdown",
      "id": "9c5b0b55-8ab3-4cc5-aed1-95f9e44727c1",
      "metadata": {
        "id": "9c5b0b55-8ab3-4cc5-aed1-95f9e44727c1"
      },
      "source": [
        "\n",
        "**cv:** número de dobleses\n",
        "\n",
        "**scoring:** accuracy (será nuestra medida de desempeño)  "
      ]
    },
    {
      "cell_type": "code",
      "execution_count": 57,
      "id": "8b84c96e",
      "metadata": {
        "colab": {
          "base_uri": "https://localhost:8080/"
        },
        "id": "8b84c96e",
        "outputId": "e199bb93-ecd4-4719-bfbb-c5e931500d36"
      },
      "outputs": [
        {
          "output_type": "execute_result",
          "data": {
            "text/plain": [
              "array([0.57407407, 0.52830189, 0.47169811])"
            ]
          },
          "metadata": {},
          "execution_count": 57
        }
      ],
      "source": [
        "\n",
        "from sklearn.base import BaseEstimator\n",
        "class NuncaC(BaseEstimator):\n",
        "    def fit(self,X,y=None):\n",
        "        return self\n",
        "    def predict(self,X):\n",
        "        return np.zeros((len(X),1),dtype=bool)\n",
        "\n",
        "nunca_c = NuncaC()\n",
        "cross_val_score(nunca_c,x_train,y_train_y,cv=3,scoring=\"accuracy\")\n"
      ]
    },
    {
      "cell_type": "markdown",
      "id": "0cdfab5e-4809-46f5-91ef-5c6eb7338842",
      "metadata": {
        "id": "0cdfab5e-4809-46f5-91ef-5c6eb7338842"
      },
      "source": [
        "***"
      ]
    },
    {
      "cell_type": "markdown",
      "id": "199752d5",
      "metadata": {
        "id": "199752d5"
      },
      "source": [
        "**Matriz de Confusión**"
      ]
    },
    {
      "cell_type": "markdown",
      "source": [
        "Una mejor manera de evaluar el performance de un modelo clasificador es con la llamada matriz de confusión. La idea es contar el número de veces que un ejemplo A es clasificado como un ejemplo B. Para crear una matriz de confusión primero se debe tener un conjunto de predicciones para después compararlas con el objetivo en específico."
      ],
      "metadata": {
        "id": "jOHYlPVKgksD"
      },
      "id": "jOHYlPVKgksD"
    },
    {
      "cell_type": "markdown",
      "source": [
        "Para entender cómo funciona pongamos atención en la siguiente imagen:\n",
        "\n",
        "\n",
        "\n",
        "\n",
        "[Imagen](https://drive.google.com/uc?id=1itByrmXN8ikOpNu42fqtuBJfnSmhkkjt)"
      ],
      "metadata": {
        "id": "f_Pa-enUgpZE"
      },
      "id": "f_Pa-enUgpZE"
    },
    {
      "cell_type": "markdown",
      "source": [
        "Como podemos ver del lado izquierdo de la matriz están los negativos por lo que, en nuestra matriz, 140 de los casos que no son medicamento Y fueron clasificados como otro medicamento mientras que 10 casos que no eran medicamento Y fueron clasificados como este\n",
        "\n",
        "Del lado derecho tenemos los positivos, por lo que en 9 de los casos que tenían que ser medicamento Y nuestro modelo lo marcó como otro medicamento, y solo en una ocasión lo clasificó como medicamento Y.\n",
        "Esto nos habla de que hasta el momento el modelo se está desempeñando mal a la hora de tener que clasificar cuando si es el medicamento Y.\n",
        "Una matriz que representa 100% de las clasificaciones correctas se vería de la siguiente manera:\n",
        "\n",
        "[Imagen](https://drive.google.com/uc?id=1_WqD_iJPHpXjRmgTW5u2Y-RjnycJfqcD)"
      ],
      "metadata": {
        "id": "Tk3iw_g37STB"
      },
      "id": "Tk3iw_g37STB"
    },
    {
      "cell_type": "code",
      "execution_count": 58,
      "id": "39275fad",
      "metadata": {
        "colab": {
          "base_uri": "https://localhost:8080/"
        },
        "id": "39275fad",
        "outputId": "8e8c553c-3e06-456d-f49c-c6ffe51fe3b1"
      },
      "outputs": [
        {
          "output_type": "execute_result",
          "data": {
            "text/plain": [
              "array([[44, 40],\n",
              "       [ 0, 76]])"
            ]
          },
          "metadata": {},
          "execution_count": 58
        }
      ],
      "source": [
        "# Matriz de confusión\n",
        "#Importar cross_val_predict\n",
        "from sklearn.model_selection import cross_val_predict\n",
        "y_train_pred = cross_val_predict(sgd,x_train,y_train_y,cv=3)\n",
        "#Importar confusion_matrix\n",
        "from sklearn.metrics import confusion_matrix\n",
        "confusion_matrix(y_train_y,y_train_pred)"
      ]
    },
    {
      "cell_type": "markdown",
      "id": "f0f6a0ec-d9f6-47cb-b748-3c519715dd14",
      "metadata": {
        "id": "f0f6a0ec-d9f6-47cb-b748-3c519715dd14"
      },
      "source": [
        "**Verdaderos Negativos**: esquina superior izquierda\n",
        "\n",
        "**Falsos positivos**: esquina superior derecha\n",
        "\n",
        "**Falsos Negativos**: esquina inferior izquierda\n",
        "\n",
        "**Verdaderos Positivos**: esquina inferior derecha"
      ]
    },
    {
      "cell_type": "markdown",
      "id": "38fd4cd1-2bcb-4a78-b36d-e1111764aa41",
      "metadata": {
        "id": "38fd4cd1-2bcb-4a78-b36d-e1111764aa41"
      },
      "source": [
        "***"
      ]
    },
    {
      "cell_type": "markdown",
      "id": "cfe9e7be",
      "metadata": {
        "id": "cfe9e7be"
      },
      "source": [
        "**Precision y Recall**"
      ]
    },
    {
      "cell_type": "code",
      "execution_count": 59,
      "id": "edd6f25a",
      "metadata": {
        "scrolled": true,
        "colab": {
          "base_uri": "https://localhost:8080/"
        },
        "id": "edd6f25a",
        "outputId": "e679bf65-2f15-48e9-95cc-b2db2af77acf"
      },
      "outputs": [
        {
          "output_type": "execute_result",
          "data": {
            "text/plain": [
              "(0.6551724137931034, 1.0)"
            ]
          },
          "metadata": {},
          "execution_count": 59
        }
      ],
      "source": [
        "#Importar precision_score y recall_score\n",
        "from sklearn.metrics import precision_score, recall_score\n",
        "p = precision_score(y_train_y,y_train_pred)\n",
        "r = recall_score(y_train_y,y_train_pred)\n",
        "p,r"
      ]
    },
    {
      "cell_type": "code",
      "execution_count": 60,
      "id": "cf491a28",
      "metadata": {
        "colab": {
          "base_uri": "https://localhost:8080/"
        },
        "id": "cf491a28",
        "outputId": "a52a1828-53e6-4a33-f755-f1de8680effd"
      },
      "outputs": [
        {
          "output_type": "execute_result",
          "data": {
            "text/plain": [
              "array([[84,  0],\n",
              "       [ 2, 74]])"
            ]
          },
          "metadata": {},
          "execution_count": 60
        }
      ],
      "source": [
        "#Cambiar de clasificador\n",
        "#Importar RandomForestClassifier\n",
        "from sklearn.ensemble import RandomForestClassifier\n",
        "rfc = RandomForestClassifier(random_state = 42)\n",
        "rfc.fit(x_train,y_train_y)\n",
        "#Hacer la matriz de confusión otra vez\n",
        "y_train_pred = cross_val_predict(rfc,x_train,y_train_y,cv=3)\n",
        "confusion_matrix(y_train_y,y_train_pred)"
      ]
    },
    {
      "cell_type": "code",
      "execution_count": 61,
      "id": "432e451f",
      "metadata": {
        "id": "432e451f",
        "outputId": "cadc6f33-a91f-4ec7-85ea-fd8523248ed2",
        "colab": {
          "base_uri": "https://localhost:8080/"
        }
      },
      "outputs": [
        {
          "output_type": "execute_result",
          "data": {
            "text/plain": [
              "(1.0, 0.9736842105263158)"
            ]
          },
          "metadata": {},
          "execution_count": 61
        }
      ],
      "source": [
        "#Calcular la precisión y recall con el nuevo clasificador\n",
        "p = precision_score(y_train_y,y_train_pred)\n",
        "r = recall_score(y_train_y,y_train_pred)\n",
        "p,r"
      ]
    },
    {
      "cell_type": "code",
      "execution_count": 62,
      "id": "c4769c66",
      "metadata": {
        "id": "c4769c66",
        "outputId": "5b3f53c3-fafd-4c88-b762-c0864b2b5034",
        "colab": {
          "base_uri": "https://localhost:8080/"
        }
      },
      "outputs": [
        {
          "output_type": "execute_result",
          "data": {
            "text/plain": [
              "0.9866666666666666"
            ]
          },
          "metadata": {},
          "execution_count": 62
        }
      ],
      "source": [
        "#Calcular F1\n",
        "from sklearn.metrics import f1_score\n",
        "f1_score(y_train_y,y_train_pred)"
      ]
    },
    {
      "cell_type": "markdown",
      "id": "53fe39ca-eb18-40cb-ab4f-d2ba63dfe077",
      "metadata": {
        "id": "53fe39ca-eb18-40cb-ab4f-d2ba63dfe077"
      },
      "source": [
        "***"
      ]
    },
    {
      "cell_type": "markdown",
      "id": "8274b93b",
      "metadata": {
        "id": "8274b93b"
      },
      "source": [
        "**Umbral Precision y Recall**"
      ]
    },
    {
      "cell_type": "code",
      "execution_count": 64,
      "id": "eb8d1359",
      "metadata": {
        "id": "eb8d1359",
        "outputId": "136374b9-a2db-45f7-9ab9-8f634251a898",
        "colab": {
          "base_uri": "https://localhost:8080/"
        }
      },
      "outputs": [
        {
          "output_type": "stream",
          "name": "stderr",
          "text": [
            "/usr/local/lib/python3.10/dist-packages/sklearn/base.py:439: UserWarning: X does not have valid feature names, but SGDClassifier was fitted with feature names\n",
            "  warnings.warn(\n"
          ]
        },
        {
          "output_type": "execute_result",
          "data": {
            "text/plain": [
              "array([-22523.33667944])"
            ]
          },
          "metadata": {},
          "execution_count": 64
        }
      ],
      "source": [
        "#Puntación de un paciente aleatorio\n",
        "y_score = sgd.decision_function([[47,1,1,0,8]])\n",
        "y_score"
      ]
    },
    {
      "cell_type": "code",
      "execution_count": 66,
      "id": "8be91577",
      "metadata": {
        "id": "8be91577",
        "outputId": "ad122398-eea1-4d9d-b467-06c02ff0061f",
        "colab": {
          "base_uri": "https://localhost:8080/",
          "height": 430
        }
      },
      "outputs": [
        {
          "output_type": "display_data",
          "data": {
            "text/plain": [
              "<Figure size 640x480 with 1 Axes>"
            ],
            "image/png": "[encoded data removed]"
          },
          "metadata": {}
        }
      ],
      "source": [
        "#Graficar la precisión y recall\n",
        "y_scores = cross_val_predict(sgd,x_train,y_train_y,cv=3,method=\"decision_function\")\n",
        "#Puedes visualizar los y_scores pero no te dice nada, la gráfica si lo hará\n",
        "#Graficar la precisión y recall, ahora si\n",
        "from sklearn.metrics import precision_recall_curve\n",
        "precisions, recalls, umbrales = precision_recall_curve(y_train_y,y_scores)\n",
        "plt.plot(umbrales, precisions[:-1],\"b--\",label=\"Precisión\")\n",
        "plt.plot(umbrales, recalls[:-1],\"g-\",label=\"Recall\")\n",
        "plt.grid()\n",
        "plt.legend()\n",
        "plt.show()"
      ]
    },
    {
      "cell_type": "markdown",
      "id": "92e7801d-2378-4178-b631-36ef5720bc65",
      "metadata": {
        "id": "92e7801d-2378-4178-b631-36ef5720bc65"
      },
      "source": [
        "El umbral permite conocer qué medida priorizar acorde a tus objetivos."
      ]
    },
    {
      "cell_type": "code",
      "execution_count": 67,
      "id": "b62f43f9",
      "metadata": {
        "id": "b62f43f9",
        "outputId": "b3b0b04e-da54-4561-924c-ec45efc84729",
        "colab": {
          "base_uri": "https://localhost:8080/"
        }
      },
      "outputs": [
        {
          "output_type": "execute_result",
          "data": {
            "text/plain": [
              "24575.640603301497"
            ]
          },
          "metadata": {},
          "execution_count": 67
        }
      ],
      "source": [
        "#Supon que ya lo pensaste y querías un umbral  90\n",
        "umbral_90 = umbrales[np.argmax(precisions >= 0.90)]\n",
        "umbral_90"
      ]
    },
    {
      "cell_type": "code",
      "execution_count": 68,
      "id": "5806f78b",
      "metadata": {
        "id": "5806f78b",
        "outputId": "889fec29-e3cc-4fef-fb37-f22847975355",
        "colab": {
          "base_uri": "https://localhost:8080/"
        }
      },
      "outputs": [
        {
          "output_type": "execute_result",
          "data": {
            "text/plain": [
              "(0.9090909090909091, 0.9210526315789473)"
            ]
          },
          "metadata": {},
          "execution_count": 68
        }
      ],
      "source": [
        "#Arroja la precisión y recall para un umbral de 90\n",
        "y_train_90 = (y_scores >= umbral_90)\n",
        "p = precision_score(y_train_y,y_train_90)\n",
        "r = recall_score(y_train_y,y_train_90)\n",
        "p,r"
      ]
    },
    {
      "cell_type": "markdown",
      "id": "890d33dd-25e6-4787-84bc-213b348648d5",
      "metadata": {
        "id": "890d33dd-25e6-4787-84bc-213b348648d5"
      },
      "source": [
        "***"
      ]
    },
    {
      "cell_type": "markdown",
      "id": "6a2caf78",
      "metadata": {
        "id": "6a2caf78"
      },
      "source": [
        "**Curva ROC**\n"
      ]
    },
    {
      "cell_type": "markdown",
      "id": "c589757e-e8a3-45bc-b264-91a7844e0005",
      "metadata": {
        "id": "c589757e-e8a3-45bc-b264-91a7844e0005"
      },
      "source": [
        "Grafica Recall contra el porcentaje de Falsos Positivos"
      ]
    },
    {
      "cell_type": "code",
      "execution_count": 69,
      "id": "174891b7",
      "metadata": {
        "id": "174891b7"
      },
      "outputs": [],
      "source": [
        "#Importar roc_curve\n",
        "from sklearn.metrics import roc_curve\n",
        "fpr, tpr, umbrales = roc_curve(y_train_y,y_scores)"
      ]
    },
    {
      "cell_type": "code",
      "execution_count": 70,
      "id": "5336e616",
      "metadata": {
        "id": "5336e616",
        "outputId": "30b21afa-00eb-4b25-8754-836c21fab498",
        "colab": {
          "base_uri": "https://localhost:8080/",
          "height": 449
        }
      },
      "outputs": [
        {
          "output_type": "display_data",
          "data": {
            "text/plain": [
              "<Figure size 640x480 with 1 Axes>"
            ],
            "image/png": "[encoded data removed]"
          },
          "metadata": {}
        }
      ],
      "source": [
        "#Graficar la curva ROC\n",
        "plt.plot(fpr, tpr, label=\"ROC Curve\")\n",
        "plt.plot([0, 1],[0, 1], 'k--')\n",
        "plt.ylabel(\"True Positive Rate\")\n",
        "plt.xlabel(\"False Positive Rate\")\n",
        "#Poner una cuadrícula\n",
        "plt.grid()\n",
        "plt.show()"
      ]
    },
    {
      "cell_type": "markdown",
      "id": "5e87c17d-a9da-425c-80d3-40d541f3af9c",
      "metadata": {
        "id": "5e87c17d-a9da-425c-80d3-40d541f3af9c"
      },
      "source": [
        "Un modelo perfecto se asimila a una escuadra entre la curva ROC y la línea punteada porque existe una mayor área bajo la curva"
      ]
    },
    {
      "cell_type": "code",
      "execution_count": 71,
      "id": "cb11a9f2",
      "metadata": {
        "id": "cb11a9f2",
        "outputId": "eee0164f-94e1-469a-ea00-8d95db5be188",
        "colab": {
          "base_uri": "https://localhost:8080/"
        }
      },
      "outputs": [
        {
          "output_type": "execute_result",
          "data": {
            "text/plain": [
              "0.9691416040100251"
            ]
          },
          "metadata": {},
          "execution_count": 71
        }
      ],
      "source": [
        "#Calcular el puntaje de la curva\n",
        "from sklearn.metrics import roc_auc_score\n",
        "roc_auc_score(y_train_y,y_scores)"
      ]
    },
    {
      "cell_type": "code",
      "execution_count": 72,
      "id": "bd8ce8ec",
      "metadata": {
        "id": "bd8ce8ec"
      },
      "outputs": [],
      "source": [
        "#Compararlo con el modelo de random forest\n",
        "y_forest = cross_val_predict(rfc,x_train,y_train_y,cv=3,method=\"predict_proba\")\n",
        "y_scores_forest = y_forest[:,1]"
      ]
    },
    {
      "cell_type": "code",
      "execution_count": 73,
      "id": "40ed836a",
      "metadata": {
        "id": "40ed836a",
        "outputId": "2a989990-483a-4f7c-9101-5c1362227f2e",
        "colab": {
          "base_uri": "https://localhost:8080/",
          "height": 449
        }
      },
      "outputs": [
        {
          "output_type": "display_data",
          "data": {
            "text/plain": [
              "<Figure size 640x480 with 1 Axes>"
            ],
            "image/png": "[encoded data removed]"
          },
          "metadata": {}
        }
      ],
      "source": [
        "#Graficar la curva ROC y la predicción de random forest\n",
        "fpr_forest, tpr_forest, umbral_forest = roc_curve(y_train_y,y_scores_forest)\n",
        "plt.plot(fpr, tpr, label=\" SGD ROC Curve\")\n",
        "plt.plot(fpr_forest, tpr_forest, label=\" RF ROC Curve\")\n",
        "plt.plot([0, 1],[0, 1], 'k--')\n",
        "plt.legend()\n",
        "plt.ylabel(\"True Positive Rate\")\n",
        "plt.xlabel(\"False Positive Rate\")\n",
        "plt.grid()\n",
        "plt.show()"
      ]
    },
    {
      "cell_type": "code",
      "execution_count": 74,
      "id": "3da0b336",
      "metadata": {
        "id": "3da0b336",
        "outputId": "84637bca-335e-4932-f45e-e02cc97488f1",
        "colab": {
          "base_uri": "https://localhost:8080/"
        }
      },
      "outputs": [
        {
          "output_type": "execute_result",
          "data": {
            "text/plain": [
              "1.0"
            ]
          },
          "metadata": {},
          "execution_count": 74
        }
      ],
      "source": [
        "#Calcular el puntaje (área bajo la curva) de random forest\n",
        "roc_auc_score(y_train_y,y_scores_forest)"
      ]
    },
    {
      "cell_type": "markdown",
      "id": "869d66e8",
      "metadata": {
        "id": "869d66e8"
      },
      "source": [
        "**Clasificadores Multiclase**\n"
      ]
    },
    {
      "cell_type": "code",
      "execution_count": 76,
      "id": "f3754467",
      "metadata": {
        "id": "f3754467",
        "outputId": "d31012ce-8da9-4999-e5b3-a07af58494c6",
        "colab": {
          "base_uri": "https://localhost:8080/"
        }
      },
      "outputs": [
        {
          "output_type": "stream",
          "name": "stderr",
          "text": [
            "/usr/local/lib/python3.10/dist-packages/sklearn/base.py:439: UserWarning: X does not have valid feature names, but SVC was fitted with feature names\n",
            "  warnings.warn(\n"
          ]
        },
        {
          "output_type": "execute_result",
          "data": {
            "text/plain": [
              "array([4])"
            ]
          },
          "metadata": {},
          "execution_count": 76
        }
      ],
      "source": [
        "# Importar SVC=Support Vector Classifier\n",
        "from sklearn.svm import SVC\n",
        "svm = SVC()\n",
        "svm.fit(x_train,y_train)\n",
        "\n",
        "#Predecir a un humano aleatorio para ver que todo este funcionando bien\n",
        "svm.predict([[25,0,1,0,1]])"
      ]
    },
    {
      "cell_type": "code",
      "execution_count": 79,
      "id": "ea8321ef",
      "metadata": {
        "id": "ea8321ef",
        "outputId": "b6cf9712-63ea-47e0-d662-53eb8aae0d23",
        "colab": {
          "base_uri": "https://localhost:8080/"
        }
      },
      "outputs": [
        {
          "output_type": "stream",
          "name": "stderr",
          "text": [
            "/usr/local/lib/python3.10/dist-packages/sklearn/base.py:439: UserWarning: X does not have valid feature names, but SVC was fitted with feature names\n",
            "  warnings.warn(\n"
          ]
        },
        {
          "output_type": "execute_result",
          "data": {
            "text/plain": [
              "array([[ 4.06158839,  1.98951746,  0.85591692, -0.23611841,  3.24991644]])"
            ]
          },
          "metadata": {},
          "execution_count": 79
        }
      ],
      "source": [
        "#Utilizar decision_function para observar los puntajes de cada medicina\n",
        "svm.decision_function([[25,0,1,167,0]])\n",
        "#Decidirá por el qué tenga mayor puntaje"
      ]
    },
    {
      "cell_type": "code",
      "execution_count": 81,
      "id": "b254626c",
      "metadata": {
        "id": "b254626c",
        "outputId": "4c80182a-7860-4daf-ccec-6bdaf57b6d92",
        "colab": {
          "base_uri": "https://localhost:8080/"
        }
      },
      "outputs": [
        {
          "output_type": "stream",
          "name": "stderr",
          "text": [
            "/usr/local/lib/python3.10/dist-packages/sklearn/base.py:439: UserWarning: X does not have valid feature names, but SVC was fitted with feature names\n",
            "  warnings.warn(\n",
            "/usr/local/lib/python3.10/dist-packages/sklearn/base.py:439: UserWarning: X does not have valid feature names, but SVC was fitted with feature names\n",
            "  warnings.warn(\n",
            "/usr/local/lib/python3.10/dist-packages/sklearn/base.py:439: UserWarning: X does not have valid feature names, but SVC was fitted with feature names\n",
            "  warnings.warn(\n",
            "/usr/local/lib/python3.10/dist-packages/sklearn/base.py:439: UserWarning: X does not have valid feature names, but SVC was fitted with feature names\n",
            "  warnings.warn(\n",
            "/usr/local/lib/python3.10/dist-packages/sklearn/base.py:439: UserWarning: X does not have valid feature names, but SVC was fitted with feature names\n",
            "  warnings.warn(\n"
          ]
        },
        {
          "output_type": "execute_result",
          "data": {
            "text/plain": [
              "array([0])"
            ]
          },
          "metadata": {},
          "execution_count": 81
        }
      ],
      "source": [
        "#Ahora, utiliza el clasificador multiclase\n",
        "from sklearn.multiclass import OneVsRestClassifier\n",
        "svm = OneVsRestClassifier(SVC())\n",
        "svm.fit(x_train,y_train)\n",
        "#Predecir a un humano ahora con este clasificador\n",
        "svm.predict([[25,0,1,167,1]])"
      ]
    },
    {
      "cell_type": "code",
      "execution_count": 82,
      "id": "0977941f",
      "metadata": {
        "id": "0977941f",
        "colab": {
          "base_uri": "https://localhost:8080/"
        },
        "outputId": "3a764617-280c-43bd-e7df-abd42c07a7b0"
      },
      "outputs": [
        {
          "output_type": "stream",
          "name": "stderr",
          "text": [
            "/usr/local/lib/python3.10/dist-packages/sklearn/base.py:439: UserWarning: X does not have valid feature names, but SVC was fitted with feature names\n",
            "  warnings.warn(\n",
            "/usr/local/lib/python3.10/dist-packages/sklearn/base.py:439: UserWarning: X does not have valid feature names, but SVC was fitted with feature names\n",
            "  warnings.warn(\n",
            "/usr/local/lib/python3.10/dist-packages/sklearn/base.py:439: UserWarning: X does not have valid feature names, but SVC was fitted with feature names\n",
            "  warnings.warn(\n",
            "/usr/local/lib/python3.10/dist-packages/sklearn/base.py:439: UserWarning: X does not have valid feature names, but SVC was fitted with feature names\n",
            "  warnings.warn(\n",
            "/usr/local/lib/python3.10/dist-packages/sklearn/base.py:439: UserWarning: X does not have valid feature names, but SVC was fitted with feature names\n",
            "  warnings.warn(\n"
          ]
        },
        {
          "output_type": "execute_result",
          "data": {
            "text/plain": [
              "array([[-0.0713522 , -1.0122918 , -1.03225663, -1.00046919, -0.11700037]])"
            ]
          },
          "metadata": {},
          "execution_count": 82
        }
      ],
      "source": [
        "#Utilizar decision_function para observar los puntajes de cada medicina\n",
        "svm.decision_function([[25,0,1,167,1]])"
      ]
    },
    {
      "cell_type": "code",
      "execution_count": 83,
      "id": "f62ef031-ec16-45b1-9529-141f2a56fecd",
      "metadata": {
        "id": "f62ef031-ec16-45b1-9529-141f2a56fecd",
        "colab": {
          "base_uri": "https://localhost:8080/",
          "height": 75
        },
        "outputId": "f2eb5318-8336-4172-b966-3280f3130c0b"
      },
      "outputs": [
        {
          "output_type": "execute_result",
          "data": {
            "text/plain": [
              "SGDClassifier(random_state=42)"
            ],
            "text/html": [
              "<style>#sk-container-id-2 {color: black;background-color: white;}#sk-container-id-2 pre{padding: 0;}#sk-container-id-2 div.sk-toggleable {background-color: white;}#sk-container-id-2 label.sk-toggleable__label {cursor: pointer;display: block;width: 100%;margin-bottom: 0;padding: 0.3em;box-sizing: border-box;text-align: center;}#sk-container-id-2 label.sk-toggleable__label-arrow:before {content: \"▸\";float: left;margin-right: 0.25em;color: #696969;}#sk-container-id-2 label.sk-toggleable__label-arrow:hover:before {color: black;}#sk-container-id-2 div.sk-estimator:hover label.sk-toggleable__label-arrow:before {color: black;}#sk-container-id-2 div.sk-toggleable__content {max-height: 0;max-width: 0;overflow: hidden;text-align: left;background-color: #f0f8ff;}#sk-container-id-2 div.sk-toggleable__content pre {margin: 0.2em;color: black;border-radius: 0.25em;background-color: #f0f8ff;}#sk-container-id-2 input.sk-toggleable__control:checked~div.sk-toggleable__content {max-height: 200px;max-width: 100%;overflow: auto;}#sk-container-id-2 input.sk-toggleable__control:checked~label.sk-toggleable__label-arrow:before {content: \"▾\";}#sk-container-id-2 div.sk-estimator input.sk-toggleable__control:checked~label.sk-toggleable__label {background-color: #d4ebff;}#sk-container-id-2 div.sk-label input.sk-toggleable__control:checked~label.sk-toggleable__label {background-color: #d4ebff;}#sk-container-id-2 input.sk-hidden--visually {border: 0;clip: rect(1px 1px 1px 1px);clip: rect(1px, 1px, 1px, 1px);height: 1px;margin: -1px;overflow: hidden;padding: 0;position: absolute;width: 1px;}#sk-container-id-2 div.sk-estimator {font-family: monospace;background-color: #f0f8ff;border: 1px dotted black;border-radius: 0.25em;box-sizing: border-box;margin-bottom: 0.5em;}#sk-container-id-2 div.sk-estimator:hover {background-color: #d4ebff;}#sk-container-id-2 div.sk-parallel-item::after {content: \"\";width: 100%;border-bottom: 1px solid gray;flex-grow: 1;}#sk-container-id-2 div.sk-label:hover label.sk-toggleable__label {background-color: #d4ebff;}#sk-container-id-2 div.sk-serial::before {content: \"\";position: absolute;border-left: 1px solid gray;box-sizing: border-box;top: 0;bottom: 0;left: 50%;z-index: 0;}#sk-container-id-2 div.sk-serial {display: flex;flex-direction: column;align-items: center;background-color: white;padding-right: 0.2em;padding-left: 0.2em;position: relative;}#sk-container-id-2 div.sk-item {position: relative;z-index: 1;}#sk-container-id-2 div.sk-parallel {display: flex;align-items: stretch;justify-content: center;background-color: white;position: relative;}#sk-container-id-2 div.sk-item::before, #sk-container-id-2 div.sk-parallel-item::before {content: \"\";position: absolute;border-left: 1px solid gray;box-sizing: border-box;top: 0;bottom: 0;left: 50%;z-index: -1;}#sk-container-id-2 div.sk-parallel-item {display: flex;flex-direction: column;z-index: 1;position: relative;background-color: white;}#sk-container-id-2 div.sk-parallel-item:first-child::after {align-self: flex-end;width: 50%;}#sk-container-id-2 div.sk-parallel-item:last-child::after {align-self: flex-start;width: 50%;}#sk-container-id-2 div.sk-parallel-item:only-child::after {width: 0;}#sk-container-id-2 div.sk-dashed-wrapped {border: 1px dashed gray;margin: 0 0.4em 0.5em 0.4em;box-sizing: border-box;padding-bottom: 0.4em;background-color: white;}#sk-container-id-2 div.sk-label label {font-family: monospace;font-weight: bold;display: inline-block;line-height: 1.2em;}#sk-container-id-2 div.sk-label-container {text-align: center;}#sk-container-id-2 div.sk-container {/* jupyter's `normalize.less` sets `[hidden] { display: none; }` but bootstrap.min.css set `[hidden] { display: none !important; }` so we also need the `!important` here to be able to override the default hidden behavior on the sphinx rendered scikit-learn.org. See: https://github.com/scikit-learn/scikit-learn/issues/21755 */display: inline-block !important;position: relative;}#sk-container-id-2 div.sk-text-repr-fallback {display: none;}</style><div id=\"sk-container-id-2\" class=\"sk-top-container\"><div class=\"sk-text-repr-fallback\"><pre>SGDClassifier(random_state=42)</pre><b>In a Jupyter environment, please rerun this cell to show the HTML representation or trust the notebook. <br />On GitHub, the HTML representation is unable to render, please try loading this page with nbviewer.org.</b></div><div class=\"sk-container\" hidden><div class=\"sk-item\"><div class=\"sk-estimator sk-toggleable\"><input class=\"sk-toggleable__control sk-hidden--visually\" id=\"sk-estimator-id-2\" type=\"checkbox\" checked><label for=\"sk-estimator-id-2\" class=\"sk-toggleable__label sk-toggleable__label-arrow\">SGDClassifier</label><div class=\"sk-toggleable__content\"><pre>SGDClassifier(random_state=42)</pre></div></div></div></div></div>"
            ]
          },
          "metadata": {},
          "execution_count": 83
        }
      ],
      "source": [
        "#campararlo con los datos obtenidos de sgd.fit\n",
        "sgd.fit(x_train,y_train)"
      ]
    },
    {
      "cell_type": "markdown",
      "id": "db247461",
      "metadata": {
        "id": "db247461"
      },
      "source": [
        "**Analizar Errores**"
      ]
    },
    {
      "cell_type": "code",
      "execution_count": 84,
      "id": "2f184f37-4640-4733-8c54-911f7c99ef2f",
      "metadata": {
        "id": "2f184f37-4640-4733-8c54-911f7c99ef2f",
        "colab": {
          "base_uri": "https://localhost:8080/",
          "height": 75
        },
        "outputId": "2f4a9e2f-0898-4d9a-d51f-c1d173ad0b7d"
      },
      "outputs": [
        {
          "output_type": "execute_result",
          "data": {
            "text/plain": [
              "RandomForestClassifier(random_state=42)"
            ],
            "text/html": [
              "<style>#sk-container-id-3 {color: black;background-color: white;}#sk-container-id-3 pre{padding: 0;}#sk-container-id-3 div.sk-toggleable {background-color: white;}#sk-container-id-3 label.sk-toggleable__label {cursor: pointer;display: block;width: 100%;margin-bottom: 0;padding: 0.3em;box-sizing: border-box;text-align: center;}#sk-container-id-3 label.sk-toggleable__label-arrow:before {content: \"▸\";float: left;margin-right: 0.25em;color: #696969;}#sk-container-id-3 label.sk-toggleable__label-arrow:hover:before {color: black;}#sk-container-id-3 div.sk-estimator:hover label.sk-toggleable__label-arrow:before {color: black;}#sk-container-id-3 div.sk-toggleable__content {max-height: 0;max-width: 0;overflow: hidden;text-align: left;background-color: #f0f8ff;}#sk-container-id-3 div.sk-toggleable__content pre {margin: 0.2em;color: black;border-radius: 0.25em;background-color: #f0f8ff;}#sk-container-id-3 input.sk-toggleable__control:checked~div.sk-toggleable__content {max-height: 200px;max-width: 100%;overflow: auto;}#sk-container-id-3 input.sk-toggleable__control:checked~label.sk-toggleable__label-arrow:before {content: \"▾\";}#sk-container-id-3 div.sk-estimator input.sk-toggleable__control:checked~label.sk-toggleable__label {background-color: #d4ebff;}#sk-container-id-3 div.sk-label input.sk-toggleable__control:checked~label.sk-toggleable__label {background-color: #d4ebff;}#sk-container-id-3 input.sk-hidden--visually {border: 0;clip: rect(1px 1px 1px 1px);clip: rect(1px, 1px, 1px, 1px);height: 1px;margin: -1px;overflow: hidden;padding: 0;position: absolute;width: 1px;}#sk-container-id-3 div.sk-estimator {font-family: monospace;background-color: #f0f8ff;border: 1px dotted black;border-radius: 0.25em;box-sizing: border-box;margin-bottom: 0.5em;}#sk-container-id-3 div.sk-estimator:hover {background-color: #d4ebff;}#sk-container-id-3 div.sk-parallel-item::after {content: \"\";width: 100%;border-bottom: 1px solid gray;flex-grow: 1;}#sk-container-id-3 div.sk-label:hover label.sk-toggleable__label {background-color: #d4ebff;}#sk-container-id-3 div.sk-serial::before {content: \"\";position: absolute;border-left: 1px solid gray;box-sizing: border-box;top: 0;bottom: 0;left: 50%;z-index: 0;}#sk-container-id-3 div.sk-serial {display: flex;flex-direction: column;align-items: center;background-color: white;padding-right: 0.2em;padding-left: 0.2em;position: relative;}#sk-container-id-3 div.sk-item {position: relative;z-index: 1;}#sk-container-id-3 div.sk-parallel {display: flex;align-items: stretch;justify-content: center;background-color: white;position: relative;}#sk-container-id-3 div.sk-item::before, #sk-container-id-3 div.sk-parallel-item::before {content: \"\";position: absolute;border-left: 1px solid gray;box-sizing: border-box;top: 0;bottom: 0;left: 50%;z-index: -1;}#sk-container-id-3 div.sk-parallel-item {display: flex;flex-direction: column;z-index: 1;position: relative;background-color: white;}#sk-container-id-3 div.sk-parallel-item:first-child::after {align-self: flex-end;width: 50%;}#sk-container-id-3 div.sk-parallel-item:last-child::after {align-self: flex-start;width: 50%;}#sk-container-id-3 div.sk-parallel-item:only-child::after {width: 0;}#sk-container-id-3 div.sk-dashed-wrapped {border: 1px dashed gray;margin: 0 0.4em 0.5em 0.4em;box-sizing: border-box;padding-bottom: 0.4em;background-color: white;}#sk-container-id-3 div.sk-label label {font-family: monospace;font-weight: bold;display: inline-block;line-height: 1.2em;}#sk-container-id-3 div.sk-label-container {text-align: center;}#sk-container-id-3 div.sk-container {/* jupyter's `normalize.less` sets `[hidden] { display: none; }` but bootstrap.min.css set `[hidden] { display: none !important; }` so we also need the `!important` here to be able to override the default hidden behavior on the sphinx rendered scikit-learn.org. See: https://github.com/scikit-learn/scikit-learn/issues/21755 */display: inline-block !important;position: relative;}#sk-container-id-3 div.sk-text-repr-fallback {display: none;}</style><div id=\"sk-container-id-3\" class=\"sk-top-container\"><div class=\"sk-text-repr-fallback\"><pre>RandomForestClassifier(random_state=42)</pre><b>In a Jupyter environment, please rerun this cell to show the HTML representation or trust the notebook. <br />On GitHub, the HTML representation is unable to render, please try loading this page with nbviewer.org.</b></div><div class=\"sk-container\" hidden><div class=\"sk-item\"><div class=\"sk-estimator sk-toggleable\"><input class=\"sk-toggleable__control sk-hidden--visually\" id=\"sk-estimator-id-3\" type=\"checkbox\" checked><label for=\"sk-estimator-id-3\" class=\"sk-toggleable__label sk-toggleable__label-arrow\">RandomForestClassifier</label><div class=\"sk-toggleable__content\"><pre>RandomForestClassifier(random_state=42)</pre></div></div></div></div></div>"
            ]
          },
          "metadata": {},
          "execution_count": 84
        }
      ],
      "source": [
        "#Hacer un clasificador de random forest\n",
        "rfc.fit(x_train, y_train)"
      ]
    },
    {
      "cell_type": "code",
      "execution_count": 85,
      "id": "fb8f5f40",
      "metadata": {
        "id": "fb8f5f40",
        "outputId": "1694593e-8293-460b-b0f2-9dd535173b2d",
        "colab": {
          "base_uri": "https://localhost:8080/"
        }
      },
      "outputs": [
        {
          "output_type": "execute_result",
          "data": {
            "text/plain": [
              "array([[75,  0,  0,  1,  0],\n",
              "       [ 0, 17,  0,  0,  0],\n",
              "       [ 0,  1, 12,  0,  0],\n",
              "       [ 0,  0,  0,  7,  4],\n",
              "       [ 0,  0,  0,  0, 43]])"
            ]
          },
          "metadata": {},
          "execution_count": 85
        }
      ],
      "source": [
        "#Utilizar la matriz de confusión\n",
        "y_train_pred = cross_val_predict(rfc, x_train, y_train, cv=3)\n",
        "conf_mz = confusion_matrix(y_train,y_train_pred)\n",
        "conf_mz"
      ]
    },
    {
      "cell_type": "code",
      "execution_count": 86,
      "id": "3489af35-b3f2-4001-9e2f-67b5696c44f7",
      "metadata": {
        "id": "3489af35-b3f2-4001-9e2f-67b5696c44f7",
        "colab": {
          "base_uri": "https://localhost:8080/"
        },
        "outputId": "297ceb21-17c2-4a63-fa26-ca2833b359b0"
      },
      "outputs": [
        {
          "output_type": "execute_result",
          "data": {
            "text/plain": [
              "array([[61, 15,  0,  0,  0],\n",
              "       [ 5, 10,  0,  0,  2],\n",
              "       [ 3,  5,  1,  0,  4],\n",
              "       [ 4,  5,  0,  0,  2],\n",
              "       [16, 11,  1,  0, 15]])"
            ]
          },
          "metadata": {},
          "execution_count": 86
        }
      ],
      "source": [
        "#utilizar ahora SGD\n",
        "y_train_pred = cross_val_predict(sgd, x_train, y_train, cv=3)\n",
        "conf_mz = confusion_matrix(y_train,y_train_pred)\n",
        "conf_mz"
      ]
    }
  ],
  "metadata": {
    "kernelspec": {
      "display_name": "Python 3 (ipykernel)",
      "language": "python",
      "name": "python3"
    },
    "language_info": {
      "codemirror_mode": {
        "name": "ipython",
        "version": 3
      },
      "file_extension": ".py",
      "mimetype": "text/x-python",
      "name": "python",
      "nbconvert_exporter": "python",
      "pygments_lexer": "ipython3",
      "version": "3.9.7"
    },
    "colab": {
      "provenance": []
    }
  },
  "nbformat": 4,
  "nbformat_minor": 5
}